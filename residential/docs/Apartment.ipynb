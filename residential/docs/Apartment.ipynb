{
 "cells": [
  {
   "cell_type": "markdown",
   "metadata": {},
   "source": [
    "This notebook provide a technical background of the multi-family apartment building model."
   ]
  },
  {
   "cell_type": "markdown",
   "metadata": {},
   "source": [
    "# Thermal Model"
   ]
  },
  {
   "cell_type": "markdown",
   "metadata": {},
   "source": [
    "The thermal model is a based on a four-zone ETP model, where the following zones variables are defined:\n",
    "\n",
    "Table 1: Zone variables\n",
    "\n",
    "| Zone Name            | Temperature | Mass   | Heat   |\n",
    "| :------------------- | :---------: | :----: | :----: |\n",
    "| Occupied apartment   | $T_A$       | $C_A$  | $Q_A$  |\n",
    "| Unoccupied apartment | $T_U$       | $C_U$  | $Q_U$  |\n",
    "| Building core        | $T_C$       | $C_C$  | $Q_C$  |\n",
    "| Building mass        | $T_M$       | $C_M$  |   -    |\n",
    "| Outdoor air          | $T_O$       |   -    |   -    |"
   ]
  },
  {
   "cell_type": "markdown",
   "metadata": {},
   "source": [
    "The model assumes that every zone is connected to every other zone with the following zone-zone conductance parameters defined\n",
    "\n",
    "Table 2: Zone-zone conductance\n",
    "\n",
    "| Conductance | Connected zones                       |\n",
    "| ----------- | ------------------------------------- |\n",
    "| $U_{OA}$    | Occupied apartment & outdoor air      |\n",
    "| $U_{OU}$    | Unoccupied apartment & outdoor air    |\n",
    "| $U_{OC}$    | Building core & outdoor air           |\n",
    "| $U_{OM}$    | Building mass & outdoor air           |\n",
    "| $U_{AU}$    | Occupied & unoccupied apartments      |\n",
    "| $U_{AC}$    | Occupied apartments & building core   |\n",
    "| $U_{AM}$    | Occupied apartments & building mass   |\n",
    "| $U_{UC}$    | Uncccupied apartments & building core |\n",
    "| $U_{UM}$    | Unoccupied apartments & building mass |\n",
    "| $U_{CM}$    | Building core & building mass         |"
   ]
  },
  {
   "cell_type": "markdown",
   "metadata": {},
   "source": [
    "The thermal dynamics are defined by Equation (1)\n",
    "\n",
    "$$\n",
    "    \\begin{bmatrix} \n",
    "        \\dot T_A \n",
    "    \\\\ \n",
    "        \\dot T_U \n",
    "    \\\\\n",
    "        \\dot T_C\n",
    "    \\\\\n",
    "        \\dot T_M\n",
    "    \\end{bmatrix}\n",
    "    =\n",
    "    \\begin{bmatrix}\n",
    "        -\\frac{U_{AU}+U_{AC}+U_{AM}}{C_A} & \\frac{U_{AU}}{C_A} & \\frac{U_{AC}}{C_A} & \\frac{U_{AM}}{C_A}\n",
    "    \\\\\n",
    "        \\frac{U_{AU}}{C_U} & -\\frac{U_{AU}+U_{UC}+U_{UM}}{C_A} & \\frac{U_{UC}}{C_A} & \\frac{U_{UM}}{C_A}\n",
    "    \\\\\n",
    "        \\frac{U_{AC}}{C_C} & \\frac{U_{UC}}{C_C} & -\\frac{U_{AC}+U_{UC}+U_{CM}}{C_C} & \\frac{U_{CM}}{C_C}\n",
    "    \\\\\n",
    "        \\frac{U_{AM}}{C_M} & \\frac{U_{UM}}{C_M} & \\frac{U_{CM}}{C_M} & -\\frac{U_{AM}+U_{UM}+U_{CM}}{C_M}\n",
    "    \\end{bmatrix}\n",
    "    \\begin{bmatrix}\n",
    "        T_A\n",
    "    \\\\\n",
    "        T_U\n",
    "    \\\\\n",
    "        T_C\n",
    "    \\\\\n",
    "        T_M\n",
    "    \\end{bmatrix}\n",
    "    +\n",
    "    \\begin{bmatrix}\n",
    "        \\frac{1}{C_A} & 0 & 0 & \\frac{U_{OA}}{C_A}\n",
    "    \\\\\n",
    "        0 & \\frac{1}{C_U} & 0 & \\frac{U_{OU}}{C_U}\n",
    "    \\\\\n",
    "        0 & 0 & \\frac{1}{C_C} & \\frac{U_{OC}}{C_C}\n",
    "    \\\\\n",
    "        0 & 0 & 0 & \\frac{U_{OM}}{C_M}\n",
    "    \\end{bmatrix}\n",
    "    \\begin{bmatrix}\n",
    "        Q_A\n",
    "    \\\\\n",
    "        Q_U\n",
    "    \\\\\n",
    "        Q_C\n",
    "    \\\\\n",
    "        T_O\n",
    "    \\end{bmatrix}\n",
    "    \\qquad (1)\n",
    "$$"
   ]
  },
  {
   "cell_type": "markdown",
   "metadata": {},
   "source": [
    "# Heat Gains\n",
    "\n",
    "The heat gains for each zones are defined as follows per unit\n",
    "\n",
    "Table 3: Occupied apartment heat gains (per occupied unit)\n",
    "\n",
    "| Heat source      | Parameter |\n",
    "| ---------------- | --------- |\n",
    "| Central plant    | $Q_{AP}$  | \n",
    "| Unit HVAC        | $Q_{AH}$  |\n",
    "| Solar gain       | $Q_{AS}$  |\n",
    "| Ventilation gain | $Q_{AV}$  |\n",
    "| End-use gains    | $Q_{AE}$  |\n",
    "\n",
    "Table 4: Unoccupied apartment heat gains (per unoccupied unit)\n",
    "\n",
    "| Heat source      | Parameter |\n",
    "| ---------------- | --------- |\n",
    "| Central plant    | $Q_{UP}$  | \n",
    "| Unit HVAC        | $Q_{UH}$  |\n",
    "| Solar gain       | $Q_{US}$  |\n",
    "| Ventilation gain | $Q_{UV}$  |\n",
    "| End-use gains    | $Q_{UE}$  |\n",
    "\n",
    "Table 5: Building core heat gains (per total units)\n",
    "\n",
    "| Heat source      | Parameter |\n",
    "| ---------------- | --------- |\n",
    "| Central plant    | $Q_{CP}$  | \n",
    "| Unit HVAC        | $Q_{CH}$  |\n",
    "| Solar gain       | $Q_{CS}$  |\n",
    "| Ventilation gain | $Q_{CV}$  |\n",
    "| End-use gains    | $Q_{CE}$  |"
   ]
  },
  {
   "cell_type": "markdown",
   "metadata": {},
   "source": [
    "# End-uses\n",
    "\n",
    "The following end-uses are available in building zones\n",
    "\n",
    "Table 6: Zone end-uses schedule and gain parameter\n",
    "\n",
    "| End-use     | Occupied      | Unoccupied | Core       | \n",
    "| ----------- | ------------- | ---------- | ---------- |\n",
    "| Lights      | `lighting`    |     -      | `hallway`  |\n",
    "| Plugs       | `plugs`       |     -      |     -      |\n",
    "| Cooking     | `cooking`     |     -      |     -      |\n",
    "| Dishwashing | `dishwashing` |     -      |     -      |\n",
    "| Washing     | `washing`     |     -      |     -      |\n",
    "| Drying      | `drying`      |     -      |     -      |\n",
    "| Hotwater    | `hotwater`    |     -      |     -      |"
   ]
  },
  {
   "cell_type": "markdown",
   "metadata": {},
   "source": [
    "# HVAC Controls\n",
    "\n",
    "The following thermostat setpoints are use to control HVAC\n",
    "\n",
    "| Zone | $T_{AH}$ | $T_{AC}$ |\n",
    "| ---------- | -------- | --------- |\n",
    "| Occupied | $T_{AH}$ | $T_{AC}$ |\n",
    "| Occupied | $T_{AH}$ | $T_{AC}$ |\n",
    "| Occupied | $T_{AH}$ | $T_{AC}$ |\n"
   ]
  }
 ],
 "metadata": {
  "kernelspec": {
   "display_name": "Python 3",
   "language": "python",
   "name": "python3"
  },
  "language_info": {
   "codemirror_mode": {
    "name": "ipython",
    "version": 3
   },
   "file_extension": ".py",
   "mimetype": "text/x-python",
   "name": "python",
   "nbconvert_exporter": "python",
   "pygments_lexer": "ipython3",
   "version": "3.7.3"
  }
 },
 "nbformat": 4,
 "nbformat_minor": 2
}
