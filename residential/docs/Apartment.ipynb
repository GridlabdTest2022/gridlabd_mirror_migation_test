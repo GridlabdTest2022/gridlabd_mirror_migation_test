{
 "cells": [
  {
   "cell_type": "markdown",
   "metadata": {},
   "source": [
    "This notebook provide a technical background of the multi-family apartment building model."
   ]
  },
  {
   "cell_type": "markdown",
   "metadata": {},
   "source": [
    "# Apartment Model"
   ]
  },
  {
   "cell_type": "markdown",
   "metadata": {},
   "source": [
    "The thermal model is a based on a four-zone ETP model, where the following zones variables are defined:\n",
    "\n",
    "Table 1: Zone variables\n",
    "\n",
    "| Zone Name            | Temperature | Mass   | Heat   |\n",
    "| :------------------- | :---------: | :----: | :----: |\n",
    "| Occupied apartment   | $T_A$       | $C_A$  | $Q_A$  |\n",
    "| Unoccupied apartment | $T_U$       | $C_U$  | $Q_U$  |\n",
    "| Building core        | $T_C$       | $C_C$  | $Q_C$  |\n",
    "| Building mass        | $T_M$       | $C_M$  |   -    |\n",
    "| Outdoor air          | $T_O$       |   -    |   -    |"
   ]
  },
  {
   "cell_type": "markdown",
   "metadata": {},
   "source": [
    "The model assumes that every zone is connected to every other zone with the following zone-zone conductance parameters defined\n",
    "\n",
    "Table 2: Zone-zone conductance\n",
    "\n",
    "| Conductance | Connected zones                       |\n",
    "| ----------- | ------------------------------------- |\n",
    "| $U_{OA}$    | Occupied apartment & outdoor air      |\n",
    "| $U_{OU}$    | Unoccupied apartment & outdoor air    |\n",
    "| $U_{OC}$    | Building core & outdoor air           |\n",
    "| $U_{OM}$    | Building mass & outdoor air           |\n",
    "| $U_{AU}$    | Occupied & unoccupied apartments      |\n",
    "| $U_{AC}$    | Occupied apartments & building core   |\n",
    "| $U_{AM}$    | Occupied apartments & building mass   |\n",
    "| $U_{UC}$    | Uncccupied apartments & building core |\n",
    "| $U_{UM}$    | Unoccupied apartments & building mass |\n",
    "| $U_{CM}$    | Building core & building mass         |"
   ]
  },
  {
   "cell_type": "markdown",
   "metadata": {},
   "source": [
    "The thermal dynamics are defined by Equation (1)\n",
    "\n",
    "$$\n",
    "    \\begin{bmatrix} \n",
    "        \\dot T_A \n",
    "    \\\\ \n",
    "        \\dot T_U \n",
    "    \\\\\n",
    "        \\dot T_C\n",
    "    \\\\\n",
    "        \\dot T_M\n",
    "    \\end{bmatrix}\n",
    "    =\n",
    "    \\begin{bmatrix}\n",
    "        -\\frac{U_{OA}+U_{AU}+U_{AC}+U_{AM}}{C_A} & \\frac{U_{AU}}{C_A} & \\frac{U_{AC}}{C_A} & \\frac{U_{AM}}{C_A}\n",
    "    \\\\\n",
    "        \\frac{U_{AU}}{C_U} & -\\frac{U_{OA}+U_{AU}+U_{UC}+U_{UM}}{C_U} & \\frac{U_{UC}}{C_U} & \\frac{U_{UM}}{C_U}\n",
    "    \\\\\n",
    "        \\frac{U_{AC}}{C_C} & \\frac{U_{UC}}{C_C} & -\\frac{U_{OC}+U_{AC}+U_{UC}+U_{CM}}{C_C} & \\frac{U_{CM}}{C_C}\n",
    "    \\\\\n",
    "        \\frac{U_{AM}}{C_M} & \\frac{U_{UM}}{C_M} & \\frac{U_{CM}}{C_M} & -\\frac{U_{OM}+U_{AM}+U_{UM}+U_{CM}}{C_M}\n",
    "    \\end{bmatrix}\n",
    "    \\begin{bmatrix}\n",
    "        T_A\n",
    "    \\\\\n",
    "        T_U\n",
    "    \\\\\n",
    "        T_C\n",
    "    \\\\\n",
    "        T_M\n",
    "    \\end{bmatrix}\n",
    "    +\n",
    "    \\begin{bmatrix}\n",
    "        \\frac{1}{C_A} & 0 & 0 & \\frac{U_{OA}}{C_A}\n",
    "    \\\\\n",
    "        0 & \\frac{1}{C_U} & 0 & \\frac{U_{OU}}{C_U}\n",
    "    \\\\\n",
    "        0 & 0 & \\frac{1}{C_C} & \\frac{U_{OC}}{C_C}\n",
    "    \\\\\n",
    "        0 & 0 & 0 & \\frac{U_{OM}}{C_M}\n",
    "    \\end{bmatrix}\n",
    "    \\begin{bmatrix}\n",
    "        Q_A\n",
    "    \\\\\n",
    "        Q_U\n",
    "    \\\\\n",
    "        Q_C\n",
    "    \\\\\n",
    "        T_O\n",
    "    \\end{bmatrix}\n",
    "    \\qquad (1)\n",
    "$$\n",
    "where the heat gains are\n",
    "- $Q_A = Q_{AH} + Q_{AS} + Q_{AV} + Q_{AE}$,\n",
    "- $Q_U = Q_{UH} + Q_{US}$\n",
    "- $Q_C = Q_{CH} + Q_{CS} + Q_{CV}$"
   ]
  },
  {
   "cell_type": "markdown",
   "metadata": {},
   "source": [
    "The heat gains for each zones are defined as follows\n",
    "\n",
    "Table 3: Occupied apartment heat gains\n",
    "\n",
    "| Heat source      | Parameter |\n",
    "| ---------------- | --------- |\n",
    "| HVAC             | $Q_{AH}$  |\n",
    "| Solar gain       | $Q_{AS}$  |\n",
    "| Ventilation gain | $Q_{AV}$  |\n",
    "| End-use gains    | $Q_{AE}$  |\n",
    "\n",
    "Table 4: Unoccupied apartment heat gains \n",
    "\n",
    "| Heat source      | Parameter |\n",
    "| ---------------- | --------- |\n",
    "| HVAC             | $Q_{UH}$  |\n",
    "| Solar gain       | $Q_{US}$  |\n",
    "\n",
    "Table 5: Building core heat gains\n",
    "\n",
    "| Heat source      | Parameter |\n",
    "| ---------------- | --------- |\n",
    "| HVAC             | $Q_{CH}$  |\n",
    "| Solar gain       | $Q_{CS}$  |\n",
    "| Ventilation gain | $Q_{CV}$  |\n",
    "\n",
    "\n",
    "The following end-uses contribute to heat gain in building zones and are driven by schedules\n",
    "\n",
    "Table 6: Zone end-use schedule source\n",
    "\n",
    "| End-use     | $Q_{AE}$      | $Q_{CE}$     |\n",
    "| ----------- | ------------- | ------------ |\n",
    "| Lights      | `lighting`    | `hallway`    |\n",
    "| Plugs       | `plugs`       |      -       |\n",
    "| Cooking     | `cooking`     |      -       |\n",
    "| Dishwashing | `dishwashing` |      -       |\n",
    "| Washing     | `washing`     |      -       |\n",
    "| Drying      | `drying`      |      -       |\n",
    "| Hotwater    | `hotwater`    |      -       |\n"
   ]
  },
  {
   "cell_type": "markdown",
   "metadata": {},
   "source": [
    "Equation (1) is represented canonically as\n",
    "\n",
    "$$\n",
    "    \\boxed { \\dot {\\textbf T} = \\textbf A \\textbf T + \\textbf B_1 \\textbf q + \\textbf B_2 \\textbf u } \\qquad (2)\n",
    "$$\n",
    "\n",
    "where $\\textbf q$ are the ambient heat gains/losses, and $\\textbf u$ is the controlled heat gains/losses, with\n",
    "\n",
    "$$\n",
    "    \\textbf B_1 = \\begin{bmatrix}\n",
    "        {U_{OA}} \\over {C_A} & 1 \\over {C_A} & 1 \\over {C_A} & 1 \\over {C_A} & 0 & 0 & 0 & 0 \n",
    "    \\\\\n",
    "        {U_{OU}} \\over {C_U} & 0 & 0 & 0 & 1 \\over {C_U} & 0 & 0 & 0 \n",
    "    \\\\\n",
    "        {U_{OC}} \\over {C_C} & 0 & 0 & 0 & 0 & 1 \\over {C_C} & 1 \\over {C_C} & 1 \\over {C_C}\n",
    "    \\\\\n",
    "        {U_{OM}} \\over {C_M} & 0 & 0 & 0 & 0 & 0 & 0 & 0 \n",
    "    \\end{bmatrix}\n",
    "    \\qquad \\textrm{and} \\qquad\n",
    "    \\textbf B_2 = \\begin{bmatrix}\n",
    "        1 \\over {C_A} & 0 & 0\n",
    "    \\\\\n",
    "        0 & 1 \\over {C_U} & 0 \n",
    "    \\\\\n",
    "        0 & 0 & 1 \\over {C_C}\n",
    "    \\\\\n",
    "        0 & 0 & 0\n",
    "    \\end{bmatrix}\n",
    "$$\n",
    "\n",
    "and\n",
    "\n",
    "$$\n",
    "    \\textbf q = \\begin{bmatrix} T_O \\\\ Q_{AS} \\\\ Q_{AV} \\\\ Q_{AE} \\\\ Q_{US} \\\\ Q_{CS} \\\\ Q_{CV} \\\\ Q_{CE} \\end{bmatrix}\n",
    "    \\qquad \\textrm{and} \\qquad\n",
    "    \\textbf u = \\begin{bmatrix} Q_{AH} \\\\ Q_{UH} \\\\ Q_{CH} \\end{bmatrix}.\n",
    "$$"
   ]
  },
  {
   "cell_type": "markdown",
   "metadata": {},
   "source": [
    "## HVAC Controls\n",
    "\n",
    "The following thermostat setpoints are use to control HVAC\n",
    "\n",
    "| Zone       | $T_{AH}$ | $T_{AC}$ |\n",
    "| ---------- | -------- | -------- |\n",
    "| Occupied   | $T_{AH}$ | $T_{AC}$ |\n",
    "| Unccupied  | $T_{UH}$ | $T_{UC}$ |\n",
    "| Core       | $T_{CH}$ | $T_{CC}$ |"
   ]
  },
  {
   "cell_type": "markdown",
   "metadata": {},
   "source": [
    "# Heating/Cooling Solution Method\n",
    "\n",
    "The model assumes that the setpoints are maintained in the controlled zone, and computes the heating/cooling load required by setting Equation (2) equal to zero.  However, if the heating/cooling load exceeds the capacity of the central plant or the HVAC units, then the power will be saturated, and the Equation (2) will provide the temperature changes, if any, for each zone."
   ]
  },
  {
   "cell_type": "markdown",
   "metadata": {},
   "source": [
    "## Step 1 - Determine the system mode\n",
    "\n",
    "Solve Equation (2) for $\\textbf{T}$ given $\\dot {\\textbf T}$ and $\\textbf{u} = 0$. When $\\textbf{A}$ is full rank, the solution is\n",
    "\n",
    "$$\n",
    "    \\textbf{T}^o = - \\textbf{A}^{-1} \\textbf{B}_1 \\textbf{q}\n",
    "$$\n",
    "\n",
    "## Step 2 - Compute the equilibrium load\n",
    "\n",
    "Solve Equation (2) for the augmented $\\textbf{u}$ at the temperature setpoint given $\\dot {\\textbf T}=0$, i.e.,\n",
    "\n",
    "$$\n",
    "    \\textbf{u} = -\\textbf{B_2}^+ ( \\textbf{A} \\textbf T^* + \\textbf{B_1} \\textbf{q} )\n",
    "$$\n",
    "\n",
    "where the pseudo-inverse $\\textbf{B_2}^+ = (\\textbf{B_2}^\\mathrm{T} \\textbf{B_2})^{-1} \\textbf{B_2}^\\mathrm{T})$,\n",
    "with the setpoint\n",
    "\n",
    "$$\n",
    "    \\textbf T^* = T_{set} - m \\begin{bmatrix}  0 \\\\ T_{unoccupied} \\\\ T_{core} \\\\ 0 \\end{bmatrix}\n",
    "$$\n",
    "\n",
    "where \n",
    "\n",
    "- $T_{set}$ is the general setpoint temperature for the building,\n",
    "- $m$ is the building operating mode, i.e., `-1` for cooling and `+1` for heating,\n",
    "- $T_{unoccupied}$ is the unoccupied temperature setpoint offset, e.g., `10 degF`, and\n",
    "- $T_{core}$ is the core temperature setpoint offset, e.g., `5 degF`.\n",
    "\n",
    "## Step 3 - Constrain the heat gain/loss\n",
    "\n",
    "The value of $\\textbf u$ may exceed the limits of the HVAC system, in which can they must be constrained such that element-wise\n",
    "\n",
    "$$\n",
    "    \\textbf u^* = \\textbf u \\qquad \\mathrm{s.t} \\qquad \\underline {\\textbf u} \\le {\\textbf u} \\le \\overline {\\textbf u}\n",
    "$$\n",
    "\n",
    "where $\\underline {\\textbf u}$ is the maximum cooling capacity and $\\overline {\\textbf u}$ is the maximum heating capacity of the HVAC system.  \n",
    "\n",
    "## Step 4 - Compute the temperature change\n",
    "\n",
    "Given the constrained values $\\textbf u^*$, we update the zone temperatures using Equation (2):\n",
    "\n",
    "$$\n",
    "    \\dot {\\textbf T} = \\textbf{A} \\textbf{T} + \\textbf B_1 \\textbf q + \\textbf B_2 \\textbf u^*\n",
    "$$\n",
    "\n",
    "where\n",
    "\n",
    "$$\n",
    "    \\textbf T = \\begin{bmatrix} T_A \\\\ T_U \\\\ T_C \\\\ T_M \\end{bmatrix}\n",
    "$$"
   ]
  },
  {
   "cell_type": "markdown",
   "metadata": {},
   "source": [
    "# Electric Power Demand\n",
    "\n",
    "The power consumption is the sum of all the end-use loads and the HVAC load given the efficiency of the HVAC systems:\n",
    "\n",
    "$$\n",
    "    P = Q_{AE} + Q_{CE} + { 1\\over \\eta_M } ||u||_1^*\n",
    "$$\n",
    "\n",
    "where $\\eta_M$ is the efficiency of the HVAC system in the mode $M$."
   ]
  },
  {
   "cell_type": "markdown",
   "metadata": {},
   "source": [
    "# Thermal Parameters\n",
    "\n",
    "The following parameters are used to compute the thermal parameters for a building.\n",
    "\n",
    "Table 3: Building design parameters\n",
    "\n",
    "| Parameter                  | Description\n",
    "| -------------------------- | -------------------------------------------\n",
    "| $N$                        | Number of floors (integer)\n",
    "| $M$                        | Number of units per floor (integer)\n",
    "| $K_X$                      | Exterior core (no=0, yes=1)\n",
    "| $K_D$                      | Core loading (0=one side, 1=both sides)\n",
    "| $F$                        | Floor thickness (ft)\n",
    "| $X$                        | Unit width (ft)\n",
    "| $Y$                        | Unit depth (ft)\n",
    "| $Z$                        | Unit height (ft)\n",
    "| $W$                        | Interior core width (ft)\n",
    "| $A_W$                      | Unit window area (sf)\n",
    "| $A_D$                      | Unit door area (sf)\n",
    "| $C_{int}$                  | Unit interior mass (Btu/degF)\n",
    "| $S_{floor}$                | Floor specific mass (Btu/degF.sf)\n",
    "\n",
    "Table 4: Building thermal properties\n",
    "\n",
    "| Parameter    | Description\n",
    "| ------------ | ---------------------\n",
    "| $R_{ext}$    | Exterior wall R-value\n",
    "| $R_{int}$    | Interior wall R-value\n",
    "| $R_{window}$ | Window R-value\n",
    "| $R_{door}$   | Unit door R-value\n",
    "| $R_{mass}$   | Mass R-value (i.e., floor, ceiling, furnishings)\n",
    "\n",
    "Table 5: Derived building properties\n",
    "\n",
    "| Parameter | Calculation &nbsp;&nbsp;&nbsp;&nbsp;&nbsp;&nbsp;&nbsp;&nbsp;        | Description\n",
    "| --------- | ------------------- | -------------------------------------------\n",
    "| $A$       | $ X Y $             | Unit floor area (sf)\n",
    "| $A_U$     | $ Y Z $             | Interior unit-unit wall area (sf)\n",
    "| $A_O$     | $ X Z - A_W $       | Exterior unit wall area (sf)\n",
    "| $A_C$     | $ Z X - A_D $       | Interior unit-core wall area (sf)\n",
    "| $V$       | $ X Y Z $           | Unit volumne (cf)"
   ]
  },
  {
   "cell_type": "markdown",
   "metadata": {},
   "source": [
    "To compute the thermal parameters we identify the expore areas for each zone. The occupancy factor $\\beta$ is the ratio of occupied units to the total number of units.\n",
    "\n",
    "Table 6: Conductance calculations\n",
    "\n",
    "| Conductance | Parameter calculation &nbsp;&nbsp;&nbsp;&nbsp;&nbsp;&nbsp;&nbsp;&nbsp;&nbsp;&nbsp;&nbsp;&nbsp;&nbsp;&nbsp;&nbsp;&nbsp;&nbsp;&nbsp;&nbsp;&nbsp;&nbsp;&nbsp;&nbsp;&nbsp;&nbsp;&nbsp;&nbsp;&nbsp;&nbsp;&nbsp;&nbsp;&nbsp;&nbsp;&nbsp;&nbsp;&nbsp;&nbsp;&nbsp;&nbsp;&nbsp;&nbsp;&nbsp;&nbsp;&nbsp;&nbsp;&nbsp;&nbsp;&nbsp;&nbsp;&nbsp;&nbsp;&nbsp;&nbsp;\n",
    "| ----------- | ---------------------------------------\n",
    "| $U_{OA}$    | $ N M \\beta (K_X+1) \\left( { {A_O} \\over {R_{ext}} } + { {A_W} \\over {R_{window}} } \\right) $\n",
    "| $U_{OU}$    | $ N M (1-\\beta) (K_X+1) \\left( { {A_O} \\over {R_{ext}} } + { {A_W} \\over {R_{window}}} \\right) $\n",
    "| $U_{OC}$    | $ N (1-K_X) [ 2 W Z + (K_D+1) M X ] \\left( { {A_O} \\over {R_{ext}} } + { {A_W} \\over {R_{window}} } \\right) $\n",
    "| $U_{OM}$    | $ N {{F (MX+2(K_D+1)Y+2W)} \\over {R_{ext}}} $\n",
    "| $U_{AU}$    | $ N M \\beta (1-\\beta) {A_U} \\over {R_{int}} $\n",
    "| $U_{AC}$    | $ N M \\beta \\left( { {A_W} \\over {(1-K_X) R_{int} + K_X R_{ext}}} + { {A_D} \\over {R_{door}} } \\right) $\n",
    "| $U_{AM}$    | $ N M \\beta {A \\over {R_{mass}}} $\n",
    "| $U_{UC}$    | $ N M (1-\\beta) \\left( { {A_W} \\over {(1-K_X) R_{int} + K_X R_{ext}}} + { {A_D} \\over {R_{door}} } \\right) $\n",
    "| $U_{UM}$    | $ N M (1-\\beta) { A \\over {R_{mass}} } $\n",
    "| $U_{CM}$    | $ N W M { {K_D+1} \\over {R_{floor}}} $\n",
    "\n",
    "Table 7: Capacitance calculation\n",
    "\n",
    "| Heat capacity | Parameter calculation &nbsp;&nbsp;&nbsp;&nbsp;&nbsp;&nbsp;&nbsp;&nbsp;&nbsp;&nbsp;&nbsp;&nbsp;&nbsp;&nbsp;&nbsp;&nbsp;\n",
    "| ------------- | -------------------------------------\n",
    "| $C_A$         | $ N M \\beta ( V S_{air} + C_{int} ) $\n",
    "| $C_U$         | $ N M (1-\\beta) ( V S_{air} + C_{int}) $\n",
    "| $C_C$         | $ N M X W H C_{air} $\n",
    "| $C_M$         | $ N M S_{floor} ( A + K X W )  $"
   ]
  },
  {
   "cell_type": "markdown",
   "metadata": {},
   "source": [
    "# Example\n",
    "\n",
    "The following example illustrates this method.  The method requires a linear algebra library:"
   ]
  },
  {
   "cell_type": "code",
   "execution_count": 1,
   "metadata": {},
   "outputs": [],
   "source": [
    "from numpy import *"
   ]
  },
  {
   "cell_type": "markdown",
   "metadata": {},
   "source": [
    "The outdoor temperature is assumed to be 20F below the indoor setpoint."
   ]
  },
  {
   "cell_type": "code",
   "execution_count": 2,
   "metadata": {},
   "outputs": [],
   "source": [
    "# set outdoor temperature (delta from T_A and T_M)\n",
    "T_O = -20 # computed from weather data relative the apartment setpoint (e.g., T_A = 40 degF - T_O)"
   ]
  },
  {
   "cell_type": "markdown",
   "metadata": {},
   "source": [
    "The building has the following characteristics"
   ]
  },
  {
   "cell_type": "code",
   "execution_count": 3,
   "metadata": {},
   "outputs": [],
   "source": [
    "# Table 3: Building design parameters\n",
    "N = 10 # 10 floors\n",
    "M = 20 # 20 units per floor\n",
    "K_X = 0 # corridor is not exterior\n",
    "K_D = 1 # corridor is double-sided\n",
    "F = 2 # floor thickness (ft)\n",
    "X = 30 # unit width (ft)\n",
    "Y = 40 # unit depth (ft)\n",
    "Z = 7.5 # unit height (ft)\n",
    "W = 4.5 # corridor width (ft)\n",
    "omega = 0.5 # exterior window/wall ratio\n",
    "A_D = 3*6.6 # unit door area (sf)\n",
    "C_int = 2000 # occupied unit interior thermal capacitance (Btu/degF)\n",
    "S_floor = 150 # density of concrete floor (Btu/cf)"
   ]
  },
  {
   "cell_type": "code",
   "execution_count": 4,
   "metadata": {},
   "outputs": [],
   "source": [
    "# Table 4: Building thermal properties\n",
    "R_ext = 19\n",
    "R_int = 5\n",
    "R_window = 2\n",
    "R_door = 3\n",
    "R_mass = 1\n",
    "R_floor = 1"
   ]
  },
  {
   "cell_type": "code",
   "execution_count": 5,
   "metadata": {},
   "outputs": [],
   "source": [
    "# Table 5: Derived building properties\n",
    "A_W = omega*X*Z # unit window area (sf)\"\"\n",
    "A_F = X*Y # unit floor area (ft)\n",
    "A_U = Y*Z # unit-unit wall area (ft)\n",
    "A_O = X*Z - A_W # unit-outdoor wall area (ft)\n",
    "A_C = X*Z - A_D # unit-core wall area (ft)\n",
    "V = X*Y*Z # unit volume (cf)\n",
    "S_air = 0.24 * 0.074 # specific heat x density of air (Btu/degF.cf)"
   ]
  },
  {
   "cell_type": "code",
   "execution_count": 6,
   "metadata": {},
   "outputs": [],
   "source": [
    "# Building occupancy\n",
    "beta = 0.9 # fraction of units that are occupied"
   ]
  },
  {
   "cell_type": "code",
   "execution_count": 7,
   "metadata": {},
   "outputs": [],
   "source": [
    "# set zone heat gains\n",
    "Q_AS = 500000 # solar gains to occupied apartments (computed from weather data)\n",
    "Q_AV = -10000 # ventilation gains to occupied apartments (computed from weather data)\n",
    "Q_AE = 10000 # electric load gains to occupied aparments (computed from equipment data)\n",
    "Q_US = (1-beta)*Q_AS # solar gains to unoccupied apartments (computed from weather data)\n",
    "Q_CS = 1000 # solar gains to core spaces (computed from weather data)\n",
    "Q_CV = -5000 # ventilation gains to core spaces (computed from weather data)"
   ]
  },
  {
   "cell_type": "code",
   "execution_count": 8,
   "metadata": {},
   "outputs": [],
   "source": [
    "# Building mode\n",
    "m = -sign(T_O) # -1 for cooling, +1 for heating"
   ]
  },
  {
   "cell_type": "markdown",
   "metadata": {},
   "source": [
    "The HVAC system capabilities are"
   ]
  },
  {
   "cell_type": "code",
   "execution_count": 9,
   "metadata": {},
   "outputs": [],
   "source": [
    "# set heat/cool constraints\n",
    "u_min = matrix([[-500000],[-200000],[-1000000],[0]])\n",
    "u_max = matrix([[500000],[200000],[1500000],[0]])\n",
    "# plant efficiency\n",
    "e_cool = 3.0\n",
    "e_heat = 4.0\n",
    "# temperature setpoints\n",
    "T_unoccupied = 10 # unoccupied zone temperature setpoint offset (degF)\n",
    "T_core = 5 # core zone temperature setpoint offset (degF)"
   ]
  },
  {
   "cell_type": "code",
   "execution_count": 10,
   "metadata": {},
   "outputs": [
    {
     "name": "stdout",
     "output_type": "stream",
     "text": [
      "Table 6: Conductance calculations (kBtu/degF.h)\n",
      "\n",
      "U_OA U_OU U_OC U_OM U_AU U_AC U_AM U_UC U_UM U_CM\n",
      "---- ---- ---- ---- ---- ---- ---- ---- ---- ----\n",
      "  11    1   42    1    1    5  216    1   24    2\n"
     ]
    }
   ],
   "source": [
    "# Table 6: Conductance calculations\n",
    "U_OA = N * M * beta * (K_X+1) * ( A_O/R_ext + A_W/R_window )\n",
    "U_OU = U_OA * (1-beta) / beta\n",
    "U_OC = N * (1-K_X) * (2*W*Z+(1-K_D)*M*X) * ( A_O/R_ext + A_W/R_window )\n",
    "U_OM = N * F * (M*X+2*(K_D+1)*Y+2*W) / R_ext\n",
    "U_AU = N * M * beta * (1-beta) * A_U/R_int\n",
    "U_AC = N * M * beta * ( (A_W/((1-K_X)*R_int+K_X*R_ext)) + (A_D/R_door) ) \n",
    "U_AM = N * M * beta * A_F/R_mass\n",
    "U_UC = N * M * (1-beta) * ( (A_W/((1-K_X)*R_int+K_X*R_ext)) + (A_D/R_door) )\n",
    "U_UM = N * M * (1-beta) * A_F/R_mass\n",
    "U_CM = N * M * W * (K_D+1)/R_floor\n",
    "print(\"Table 6: Conductance calculations (kBtu/degF.h)\\n\\n\" + \n",
    "      \"U_OA U_OU U_OC U_OM U_AU U_AC U_AM U_UC U_UM U_CM\\n\" +\n",
    "      \"---- ---- ---- ---- ---- ---- ---- ---- ---- ----\\n\" +\n",
    "      \"%4.0f %4.0f %4.0f %4.0f %4.0f %4.0f %4.0f %4.0f %4.0f %4.0f\" \n",
    "      % (U_OA/1000,U_OU/1000,U_OC/1000,U_OM/1000,U_AU/1000,\n",
    "         U_AC/1000,U_AM/1000,U_UC/1000,U_UM/1000,U_CM/1000))"
   ]
  },
  {
   "cell_type": "code",
   "execution_count": 11,
   "metadata": {},
   "outputs": [
    {
     "name": "stdout",
     "output_type": "stream",
     "text": [
      "Table 7: Capacitance calculations (kBtu/degF)\n",
      "\n",
      "C_A  C_U  C_C  C_M\n",
      "---- ---- ---- ----\n",
      "  29    3    4 8560\n"
     ]
    }
   ],
   "source": [
    "# Table 7: Capacitance calculations\n",
    "C_A = N * M * beta * V * S_air\n",
    "C_U = N * M * (1-beta) * V * S_air\n",
    "C_C = N * M * X * W * Z * S_air\n",
    "C_M = N * M * (C_int + (1 + X * W) * F * S_floor)\n",
    "print(\"Table 7: Capacitance calculations (kBtu/degF)\\n\\n\"\n",
    "     + \"C_A  C_U  C_C  C_M\\n\"\n",
    "     + \"---- ---- ---- ----\\n\"\n",
    "     + \"%4.0f %4.0f %4.0f %4.0f\"\n",
    "     % (C_A/1000,C_U/1000,C_C/1000,C_M/1000))"
   ]
  },
  {
   "cell_type": "code",
   "execution_count": 12,
   "metadata": {},
   "outputs": [
    {
     "name": "stdout",
     "output_type": "stream",
     "text": [
      "Thermal conditions\n",
      "\n",
      "T_O   Q_A  Q_U  Q_C\n",
      "degF     kBtu/h    \n",
      "---- ---- ---- ----\n",
      " -20  500   51   -5\n"
     ]
    }
   ],
   "source": [
    "# boundary condition\n",
    "q = matrix([[T_O], [Q_AS+Q_AV+Q_AE], [Q_US+Q_CS], [Q_CV]])\n",
    "print(\"Thermal conditions\\n\\n\"\n",
    "     + \"T_O   Q_A  Q_U  Q_C\\n\"\n",
    "     + \"degF     kBtu/h    \\n\"\n",
    "     + \"---- ---- ---- ----\")\n",
    "print(\"%4.0f %4.0f %4.0f %4.0f\"\n",
    "     % (q[0],q[1]/1000,q[2]/1000,q[3]/1000))"
   ]
  },
  {
   "cell_type": "code",
   "execution_count": 13,
   "metadata": {},
   "outputs": [
    {
     "data": {
      "text/plain": [
       "2"
      ]
     },
     "execution_count": 13,
     "metadata": {},
     "output_type": "execute_result"
    }
   ],
   "source": [
    "from numpy.linalg import *\n",
    "# compute the solution matrices\n",
    "A = matrix([ \n",
    "      [-(U_OA+U_AU+U_AC+U_AM)/C_A,                   U_AU/C_A,                   U_AC/C_A,                   U_AM/C_A],\n",
    "      [                  U_AU/C_U, -(U_OU+U_AU+U_UC+U_UM)/C_U,                   U_UC/C_U,                   U_UM/C_U],\n",
    "      [                  U_AC/C_C,                   U_UC/C_C, -(U_OC+U_AC+U_UC+U_CM)/C_C,                   U_CM/C_C],\n",
    "      [                  U_AM/C_M,                   U_UM/C_M,                   U_CM/C_M, -(U_OM+U_AM+U_UM+U_CM)/C_M]\n",
    "    ])\n",
    "a = 0.9 # fraction of heat gain that goes to zone instead of mass\n",
    "b = 1-a # fraction of heat gain that is taken up directly by mass\n",
    "B1 = matrix([ \n",
    "       [ U_OA/C_A, a/C_A,     0,     0],\n",
    "       [ U_OU/C_U,     0, a/C_U,     0],\n",
    "       [ U_OC/C_C,     0,     0, a/C_C],\n",
    "       [ U_OM/C_M, b/C_M, b/C_M, b/C_M]\n",
    "      ])\n",
    "B2 = matrix([ \n",
    "       [ a/C_A,     0,     0,     0],\n",
    "       [     0, a/C_U,     0,     0],\n",
    "       [     0,     0, a/C_C,     0],\n",
    "       [ b/C_M, b/C_M, b/C_M, 1/C_M]\n",
    "      ])\n",
    "ndim(B2)"
   ]
  },
  {
   "cell_type": "code",
   "execution_count": 14,
   "metadata": {},
   "outputs": [
    {
     "name": "stdout",
     "output_type": "stream",
     "text": [
      "Temperatures (degF)\n",
      "\n",
      "Zone  dT/dt   Eq   Set \n",
      "----- ----- ----- -----\n",
      "T_A    -0.0   7.9   0.0\n",
      "T_U    -0.0   7.8  10.0\n",
      "T_C     0.0 -15.8   5.0\n",
      "T_M     0.0   7.9   --\n"
     ]
    }
   ],
   "source": [
    "T = matrix([[0],[0],[0],[0]])\n",
    "Ainv = inv(A)\n",
    "T_eq = -Ainv*(B1*q)\n",
    "dT = A*T_eq + B1*q\n",
    "T_set = m*matrix([[0],[T_unoccupied],[T_core],[0]])\n",
    "print(\"Temperatures (degF)\\n\\n\"\n",
    "     + \"Zone  dT/dt   Eq   Set \\n\"\n",
    "     + \"----- ----- ----- -----\")\n",
    "print(\"%-5.5s %5.1f %5.1f %5.1f\" % ('T_A',dT[0],T_eq[0],T_set[0]))\n",
    "print(\"%-5.5s %5.1f %5.1f %5.1f\" % ('T_U',dT[1],T_eq[1],T_set[1]))\n",
    "print(\"%-5.5s %5.1f %5.1f %5.1f\" % ('T_C',dT[2],T_eq[2],T_set[2]))\n",
    "print(\"%-5.5s %5.1f %5.1f   --\" % ('T_M',dT[3],T_eq[3]))"
   ]
  },
  {
   "cell_type": "code",
   "execution_count": 15,
   "metadata": {},
   "outputs": [
    {
     "name": "stdout",
     "output_type": "stream",
     "text": [
      "shortfall = -334 kBtu/h\n",
      "dTA = -1.29 degF/h\n",
      "dTU = 62.89 degF/h\n",
      "dTC = 67.32 degF/h\n",
      "dTM = 0.02 degF/h\n",
      "dt = 53 sec\n"
     ]
    }
   ],
   "source": [
    "# initial temperature\n",
    "T = matrix([[0], [0], [0], [0]])\n",
    "# solve for the required control\n",
    "u_req = -inv(B2) * (A*T_set+B1*q);\n",
    "# constrain the solution\n",
    "u = hstack((u_max,hstack((u_req,u_min)).max(axis=1))).min(axis=1)\n",
    "# compute the temperature changes\n",
    "dT = A*T + B1*q + B2*u\n",
    "# compute time to change 0.1 degF\n",
    "dt = 3600/max(abs(dT))[0,0]\n",
    "# show me\n",
    "print(\"shortfall = %.0f kBtu/h\" % (sum(u_req - u)/1000))\n",
    "print(\"dTA = %.2f degF/h\" % (dT[0,0]))\n",
    "print(\"dTU = %.2f degF/h\" % (dT[1,0]))\n",
    "print(\"dTC = %.2f degF/h\" % (dT[2,0]))\n",
    "print(\"dTM = %.2f degF/h\" % (dT[3,0]))\n",
    "print(\"dt = %.0f sec\" % (dt))"
   ]
  },
  {
   "cell_type": "code",
   "execution_count": 16,
   "metadata": {},
   "outputs": [
    {
     "name": "stdout",
     "output_type": "stream",
     "text": [
      "Mode Power\n",
      "---- -----\n",
      "   1   371\n"
     ]
    }
   ],
   "source": [
    "# power requirements\n",
    "if m < 0: eta = e_heat \n",
    "else: eta = e_cool\n",
    "P = m*sum(u)/eta\n",
    "print(\"Mode Power\\n\"\n",
    "      + \"---- -----\\n\"\n",
    "      + \"%4.0f %5.0f\"\n",
    "      % (m,P/1000))"
   ]
  }
 ],
 "metadata": {
  "kernelspec": {
   "display_name": "Python 3",
   "language": "python",
   "name": "python3"
  },
  "language_info": {
   "codemirror_mode": {
    "name": "ipython",
    "version": 3
   },
   "file_extension": ".py",
   "mimetype": "text/x-python",
   "name": "python",
   "nbconvert_exporter": "python",
   "pygments_lexer": "ipython3",
   "version": "3.7.3"
  }
 },
 "nbformat": 4,
 "nbformat_minor": 2
}
