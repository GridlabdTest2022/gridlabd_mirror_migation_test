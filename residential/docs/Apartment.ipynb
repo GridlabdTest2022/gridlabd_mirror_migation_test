{
 "cells": [
  {
   "cell_type": "markdown",
   "metadata": {},
   "source": [
    "This notebook provide a technical background of the multi-family apartment building model."
   ]
  },
  {
   "cell_type": "markdown",
   "metadata": {},
   "source": [
    "# Building Model"
   ]
  },
  {
   "cell_type": "markdown",
   "metadata": {},
   "source": [
    "The thermal model is a based on a four-zone ETP model, where the following zones variables are defined:\n",
    "\n",
    "Table 1: Zone variables\n",
    "\n",
    "| Zone Name            | Temperature | Mass   | Heat   |\n",
    "| :------------------- | :---------: | :----: | :----: |\n",
    "| Occupied apartment   | $T_A$       | $C_A$  | $Q_A$  |\n",
    "| Unoccupied apartment | $T_U$       | $C_U$  | $Q_U$  |\n",
    "| Building core        | $T_C$       | $C_C$  | $Q_C$  |\n",
    "| Building mass        | $T_M$       | $C_M$  |   -    |\n",
    "| Outdoor air          | $T_O$       |   -    |   -    |"
   ]
  },
  {
   "cell_type": "markdown",
   "metadata": {},
   "source": [
    "The model assumes that every zone is connected to every other zone with the following zone-zone conductance parameters defined\n",
    "\n",
    "Table 2: Zone-zone conductance\n",
    "\n",
    "| Conductance | Connected zones                       |\n",
    "| ----------- | ------------------------------------- |\n",
    "| $U_{OA}$    | Occupied apartment & outdoor air      |\n",
    "| $U_{OU}$    | Unoccupied apartment & outdoor air    |\n",
    "| $U_{OC}$    | Building core & outdoor air           |\n",
    "| $U_{OM}$    | Building mass & outdoor air           |\n",
    "| $U_{AU}$    | Occupied & unoccupied apartments      |\n",
    "| $U_{AC}$    | Occupied apartments & building core   |\n",
    "| $U_{AM}$    | Occupied apartments & building mass   |\n",
    "| $U_{UC}$    | Uncccupied apartments & building core |\n",
    "| $U_{UM}$    | Unoccupied apartments & building mass |\n",
    "| $U_{CM}$    | Building core & building mass         |"
   ]
  },
  {
   "cell_type": "markdown",
   "metadata": {},
   "source": [
    "The thermal dynamics are defined by Equation (1)\n",
    "\n",
    "$$\n",
    "    \\begin{bmatrix} \n",
    "        \\dot T_A \n",
    "    \\\\ \n",
    "        \\dot T_U \n",
    "    \\\\\n",
    "        \\dot T_C\n",
    "    \\\\\n",
    "        \\dot T_M\n",
    "    \\end{bmatrix}\n",
    "    =\n",
    "    \\begin{bmatrix}\n",
    "        -\\frac{U_{AU}+U_{AC}+U_{AM}}{C_A} & \\frac{U_{AU}}{C_A} & \\frac{U_{AC}}{C_A} & \\frac{U_{AM}}{C_A}\n",
    "    \\\\\n",
    "        \\frac{U_{AU}}{C_U} & -\\frac{U_{AU}+U_{UC}+U_{UM}}{C_U} & \\frac{U_{UC}}{C_U} & \\frac{U_{UM}}{C_U}\n",
    "    \\\\\n",
    "        \\frac{U_{AC}}{C_C} & \\frac{U_{UC}}{C_C} & -\\frac{U_{AC}+U_{UC}+U_{CM}}{C_C} & \\frac{U_{CM}}{C_C}\n",
    "    \\\\\n",
    "        \\frac{U_{AM}}{C_M} & \\frac{U_{UM}}{C_M} & \\frac{U_{CM}}{C_M} & -\\frac{U_{AM}+U_{UM}+U_{CM}}{C_M}\n",
    "    \\end{bmatrix}\n",
    "    \\begin{bmatrix}\n",
    "        T_A\n",
    "    \\\\\n",
    "        T_U\n",
    "    \\\\\n",
    "        T_C\n",
    "    \\\\\n",
    "        T_M\n",
    "    \\end{bmatrix}\n",
    "    +\n",
    "    \\begin{bmatrix}\n",
    "        \\frac{1}{C_A} & 0 & 0 & \\frac{U_{OA}}{C_A}\n",
    "    \\\\\n",
    "        0 & \\frac{1}{C_U} & 0 & \\frac{U_{OU}}{C_U}\n",
    "    \\\\\n",
    "        0 & 0 & \\frac{1}{C_C} & \\frac{U_{OC}}{C_C}\n",
    "    \\\\\n",
    "        0 & 0 & 0 & \\frac{U_{OM}}{C_M}\n",
    "    \\end{bmatrix}\n",
    "    \\begin{bmatrix}\n",
    "        Q_A\n",
    "    \\\\\n",
    "        Q_U\n",
    "    \\\\\n",
    "        Q_C\n",
    "    \\\\\n",
    "        T_O\n",
    "    \\end{bmatrix}\n",
    "    \\qquad (1)\n",
    "$$"
   ]
  },
  {
   "cell_type": "markdown",
   "metadata": {},
   "source": [
    "Equation (1) is represented more simply as\n",
    "\n",
    "$$\n",
    "    \\boxed { \\dot {\\textbf T} = \\textbf A \\textbf T + \\textbf B_1 \\textbf q + \\textbf B_2 \\textbf u } \\qquad (2)\n",
    "$$\n",
    "\n",
    "where $\\textbf q$ is the ambient heat gain/loss, and $\\textbf u$ is the controlled heat gain/loss, with\n",
    "\n",
    "$$\n",
    "    \\textbf B_1 = \\begin{bmatrix}\n",
    "        U_{OA} \\over C_A & 1 \\over C_A & 1 \\over C_A & 1 \\over C_A & 0 & 0 & 0\n",
    "    \\\\\n",
    "        U_{OU} \\over C_U & 0 & 0 & 0 & 1 \\over C_U & 0 & 0\n",
    "    \\\\\n",
    "        U_{OC} \\over C_C & 0 & 0 & 0 & 0 & 1 \\over C_C & 1 \\over C_C\n",
    "    \\\\\n",
    "        U_{OM} \\over C_M & 0 & 0 & 0 & 0 & 0 & 0\n",
    "    \\end{bmatrix}\n",
    "    \\qquad \\textrm{and} \\qquad\n",
    "    \\textbf B_2 = \\begin{bmatrix}\n",
    "        1 \\over C_A & 0 & 0\n",
    "    \\\\\n",
    "        0 & 1 \\over C_U & 0 \n",
    "    \\\\\n",
    "        0 & 0 & 1 \\over C_C\n",
    "    \\\\\n",
    "        0 & 0 & 0\n",
    "    \\end{bmatrix}\n",
    "$$\n",
    "\n",
    "and\n",
    "\n",
    "$$\n",
    "    \\textbf q = \\begin{bmatrix} T_O \\\\ Q_{AS} \\\\ Q_{AV} \\\\ Q_{AE} \\\\ Q_{US} \\\\ Q_{CS} \\\\ Q_{CV} \\end{bmatrix}\n",
    "    \\qquad \\textrm{and} \\qquad\n",
    "    \\textbf u = \\begin{bmatrix} Q_{AH} \\\\ Q_{UH} \\\\ Q_{CH} \\end{bmatrix}.\n",
    "$$"
   ]
  },
  {
   "cell_type": "markdown",
   "metadata": {},
   "source": [
    "The heat gains for each zones are defined as follows\n",
    "\n",
    "Table 3: Occupied apartment heat gains\n",
    "\n",
    "| Heat source      | Parameter |\n",
    "| ---------------- | --------- |\n",
    "| HVAC             | $Q_{AH}$  |\n",
    "| Solar gain       | $Q_{AS}$  |\n",
    "| Ventilation gain | $Q_{AV}$  |\n",
    "| End-use gains    | $Q_{AE}$  |\n",
    "\n",
    "Table 4: Unoccupied apartment heat gains \n",
    "\n",
    "| Heat source      | Parameter |\n",
    "| ---------------- | --------- |\n",
    "| HVAC             | $Q_{UH}$  |\n",
    "| Solar gain       | $Q_{US}$  |\n",
    "\n",
    "Table 5: Building core heat gains\n",
    "\n",
    "| Heat source      | Parameter |\n",
    "| ---------------- | --------- |\n",
    "| HVAC             | $Q_{CH}$  |\n",
    "| Solar gain       | $Q_{CS}$  |\n",
    "| Ventilation gain | $Q_{CV}$  |"
   ]
  },
  {
   "cell_type": "markdown",
   "metadata": {},
   "source": [
    "## End-uses\n",
    "\n",
    "The following end-uses contribute to heat gain in building zones and are driven by schedules\n",
    "\n",
    "Table 6: Zone end-use schedule source\n",
    "\n",
    "| End-use     | $Q_{AE}$      | $Q_{UE}$     | $Q_{CE}$     |\n",
    "| ----------- | ------------- | ------------ | ------------ |\n",
    "| Lights      | `lighting`    |      -       | `hallway`    |\n",
    "| Plugs       | `plugs`       |      -       |      -       |\n",
    "| Cooking     | `cooking`     |      -       |      -       |\n",
    "| Dishwashing | `dishwashing` |      -       |      -       |\n",
    "| Washing     | `washing`     |      -       |      -       | \n",
    "| Drying      | `drying`      |      -       |      -       |\n",
    "| Hotwater    | `hotwater`    |      -       |      -       |\n"
   ]
  },
  {
   "cell_type": "markdown",
   "metadata": {},
   "source": [
    "## HVAC Controls\n",
    "\n",
    "The following thermostat setpoints are use to control HVAC\n",
    "\n",
    "| Zone       | $T_{AH}$ | $T_{AC}$ |\n",
    "| ---------- | -------- | -------- |\n",
    "| Occupied   | $T_{AH}$ | $T_{AC}$ |\n",
    "| Unccupied  | $T_{UH}$ | $T_{UC}$ |\n",
    "| Core       | $T_{CH}$ | $T_{CC}$ |"
   ]
  },
  {
   "cell_type": "markdown",
   "metadata": {},
   "source": [
    "# Solution Method\n",
    "\n",
    "The model assumes that the setpoints are maintained in the controlled zone, and computes the heating/cooling load required by setting Equation (2) equal to zero.  However, if the heating/cooling load exceeds the capacity of the central plant or the HVAC units, then the power will be saturated, and the Equation (2) will provide the temperature changes, if any, for each zone."
   ]
  },
  {
   "cell_type": "markdown",
   "metadata": {},
   "source": [
    "## Step 1 - Compute the equilibrium load\n",
    "\n",
    "Solve Equation (2) for the augmented $\\textbf u$ given $\\dot{\\textbf T}=0$, i.e.,\n",
    "\n",
    "$$\n",
    "    \\textbf u = -\\textbf B_2^+ ( \\textbf A \\textbf T + \\textbf B_1 \\textbf q )\n",
    "$$\n",
    "\n",
    "## Step 2 - Constrain the heat gain/loss\n",
    "\n",
    "The value of $\\textbf u$ may exceed the limits of the HVAC system, in which can they must be constrained such that element-wise\n",
    "\n",
    "$$\n",
    "    \\textbf u^* = \\textbf u \\qquad \\mathrm{s.t} \\qquad \\underline {\\textbf u} \\le {\\textbf u} \\le \\overline {\\textbf u}\n",
    "$$\n",
    "\n",
    "where $\\underline {\\textbf u}$ is the maximum cooling capacity and $\\overline {\\textbf u}$ is the maximum heating capacity of the HVAC system.  \n",
    "\n",
    "## Step 3 - Compute the temperature change\n",
    "\n",
    "Given the constrained values $\\textbf u^*$, we update the zone temperatures using Equation (2):\n",
    "\n",
    "$$\n",
    "    \\dot {\\textbf T} = \\textbf{A} \\textbf{T} + \\textbf B_1 \\textbf q + \\textbf B_2 \\textbf u^*\n",
    "$$\n",
    "\n",
    "where\n",
    "\n",
    "$$\n",
    "    \\textbf T = \\begin{bmatrix} T_A \\\\ T_U \\\\ T_C \\\\ T_M \\end{bmatrix}\n",
    "$$"
   ]
  },
  {
   "cell_type": "code",
   "execution_count": null,
   "metadata": {},
   "outputs": [],
   "source": []
  }
 ],
 "metadata": {
  "kernelspec": {
   "display_name": "Python 3",
   "language": "python",
   "name": "python3"
  },
  "language_info": {
   "codemirror_mode": {
    "name": "ipython",
    "version": 3
   },
   "file_extension": ".py",
   "mimetype": "text/x-python",
   "name": "python",
   "nbconvert_exporter": "python",
   "pygments_lexer": "ipython3",
   "version": "3.7.3"
  }
 },
 "nbformat": 4,
 "nbformat_minor": 2
}
