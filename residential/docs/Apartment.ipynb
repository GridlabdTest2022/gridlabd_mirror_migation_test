{
 "cells": [
  {
   "cell_type": "markdown",
   "metadata": {},
   "source": [
    "This notebook provide a technical background of the multi-family apartment building model."
   ]
  },
  {
   "cell_type": "markdown",
   "metadata": {},
   "source": [
    "# Apartment Model"
   ]
  },
  {
   "cell_type": "markdown",
   "metadata": {},
   "source": [
    "The apartment building model in GridLAB-D represents multi-storey, multi-tenant residential buildings.  The building must have more than 1 floor and more than 1 unit.  The building may have partial occupancy, and the vacant units are assumed to have not end-use loads, and only minimal space conditioning.  \n",
    "\n",
    "Circulation may be outdoor, or indoor (with or without space conditioning).  If indoor, the circulation may be units on only one or on both sides. Circulation is assumed to be linear ending at the perimeter walls.\n",
    "\n",
    "The building may be equipped with central heating and/or cooling, using a forced air, two-pipe, or four-pipe system. Apartment units may also have independent heating, cooling, and ventilation."
   ]
  },
  {
   "cell_type": "markdown",
   "metadata": {},
   "source": [
    "# Model Parameters\n",
    "\n",
    "The building model parameters are grouped into the following categories.\n",
    "\n",
    "- `building`: Parameters relating to the entire building.\n",
    "- `core`: Parameters relating to the building core.\n",
    "- `parking`: Parameters relating to the parking structure (if any).\n",
    "- `power`: Parameters relating to the electric power systems.\n",
    "- `system`: Parameters relating to the building systems.\n",
    "- `unit`: Parameters relating to the apartment units.\n",
    "- `vacant`: Paremeters relating to the vacant units."
   ]
  },
  {
   "cell_type": "markdown",
   "metadata": {},
   "source": [
    "## Building Parameters\n",
    "\n",
    "- `building_floors`: (static integer) The number of floors in the building.  This value must be greater than 1. This value has no default and must be specified in the model.\n",
    "\n",
    "- `building_floor_depth[ft]`: (static real) The ceiling-to-floor depth in the building (i.e., floor thickness). The default is `2.0 ft`.\n",
    "\n",
    "- `building_floor_height[ft]`: (static real) The floor-to-ceiling height in the building (i.e., unit height). The default is `8.0 ft`.\n",
    "\n",
    "- `building_outdoor_temperature[degF]`: (input real) The temperature outside the building (driven by the weather model). The default is `59.0 degF`.\n",
    "\n",
    "- `building_units`: (static integer) The number of units in the building. This value has no default and must be specified in the model.\n"
   ]
  },
  {
   "cell_type": "markdown",
   "metadata": {},
   "source": [
    "## Core Parameters\n",
    "\n",
    "- `core_cooling_setpoint[degF]`: (input real) The cooling setpoint in the core space. The value is only meaningful if the core is an indoor conditioned space. The default is `unit_cooling_setpoint+5.0`.\n",
    "\n",
    "- `core_elevators`: (static integer) The number of elevators operating in the core space. The default is `0`.\n",
    "\n",
    "- `core_heating_setpoint[degF]`: (input real) The heating setpoint in the core space. The value is only meaningful if the core is an indoor conditioned space. The default is `unit_heating_setpoint-5.0`.\n",
    "\n",
    "- `core_configuration`: (static set) Indicates the configuration of the core.  The default is `NONE`. Options include:\n",
    "  - `NONE`: The core is exterior, single-loaded, and unconditioned.\n",
    "  - `INDOOR`: The core space is indoor. \n",
    "  - `DOUBLE`: The core is double-loaded. This parameter implies `INDOOR`.\n",
    "  - `CONDITIONED`: The core space is conditioned. This parameter implies `INDOOR`.\n",
    "\n",
    "- `core_laundry_units`: (static integer) The number of community/shared washer/dryers pairs installed in the core space.\n",
    "\n",
    "- `core_mode`: (static enumeration) The operating mode of the core zone.  The default `OFF`. Valid values are:\n",
    "  - `OFF`: The system is off.\n",
    "  - `VENTILATING`: The system is ventilating.\n",
    "  - `HEATING`: The system is heating.\n",
    "  - `COOLING`: The system is cooling.\n",
    "  \n",
    "- `core_width[ft]`: (static real) The width of the core space. The default is `3 ft` for single-loaded corridors, and `5 ft` for double-loaded corridors.\n"
   ]
  },
  {
   "cell_type": "markdown",
   "metadata": {},
   "source": [
    "## Parking Parameters\n",
    "\n",
    "- `parking_capacity_chargers[kW]`: (static real) The installed vehicle charger capacity.  The default is `0.0 kW`.\n",
    "\n",
    "- `parking_capacity_elevators[kW]`: (static real) The installed elevator capacity. The default is `0.0 kW`.\n",
    "\n",
    "- `parking_capacity_lights[kW]`: (static real) The installed lighting capacity. The default is `0.0 kW`.\n",
    "\n",
    "- `parking_capacity_ventilation[kW]`: (static real) The installed ventilation capacity. The default is `0.0 kW`.\n",
    "\n",
    "- `parking_chargers_installed`: (static integer) The number of EV chargers installed.\n",
    "\n",
    "- `parking_chargers_active`: (input integer) The number of EV chargers that are in use.\n",
    "\n",
    "- `parking_demand_chargers[pu]`: (output real) The parking EV charger demand as a fraction of installed capacity.\n",
    "\n",
    "- `parking_demand_elevators[pu]`: (output real) The parking elevator demand as a fraction of installed capacity\n",
    "\n",
    "- `parking_demand_lights[pu]`: (output real) The parking lighting demand as a fraction of installed capacity.\n",
    "\n",
    "- `parking_demand_ventilation[pu]`: (output real) The parking ventilation demand as a fraction of installed capacity.\n",
    "\n",
    "- `parking_configuration`: (static enumeration) The parking configuration. The default is `OUTDOOR`. The following options are recognized:\n",
    "    - `OUTDOOR`: The parking is exterior (lighting is on only at night).\n",
    "    - `INDOOR`: The parking in indoor (lighting and ventilation are always on).\n",
    "\n",
    "- `parking_size`: (static integer) The total number of parking spots installed. \n"
   ]
  },
  {
   "cell_type": "markdown",
   "metadata": {},
   "source": [
    "## Power Parameters\n",
    "\n",
    "- `power_core[kW]`: (output real) The power delivered to the core spaces in the building (including washing and drying).\n",
    "\n",
    "- `power_parking[kW]`: (output real) The power delivered to the parking areas.\n",
    "\n",
    "- `power_system[kW]`: (output real) The power delivered to the building systems (i.e., HVAC).\n",
    "\n",
    "- `power_total[kW]`: (output real) The total power delivered to the building, i.e., core, parking, system, and units.\n",
    "\n",
    "- `power_units[kW]`: (output real) The total power delivered to the apartment units (both occupied and vacant).\n",
    "    "
   ]
  },
  {
   "cell_type": "markdown",
   "metadata": {},
   "source": [
    "## System Parameters\n",
    "\n",
    "- `system_cooling_air_temperature[degF]`: (static real) The system cooling supply air temperature. This is only meaningful when `system_type_central&COOL` and `system_type_ventilation==CENTRAL`. The default value is `50 degF`.\n",
    "\n",
    "- `system_cooling_capacity[kBtu/h]`: (static real) The system cooling capacity. This is only meaningful when `system_type_central&COOL`. The default value is computed based on the heating and cooling design conditions (see below).\n",
    "\n",
    "- `system_cooling_efficiency[kBtu/kWh]`: (static real) The system cooling efficiency. This is only meaning when `system_type_central&COOL`.\n",
    "\n",
    "- `system_heating_air_temperature[degF]`: (static real) The system heating supply air temperature. This is only meaning when `system_type_central&HEAT` and `system_type_ventliation==CENTRAL`. The default is `110 degF`.\n",
    "\n",
    "- `system_heating_capacity[kBtu/h]`: (static real) The system heating capacity. This is only meaningful when `system_type_central&HEAT`. The default value is computed based on the heating and cooling design conditions (see below).\n",
    "\n",
    "- `system_heating_efficiency[kBtu/kWh]`: (static real) The system heating efficiency. This is only meaning when `system_type_central&HEAT`.\n",
    "\n",
    "- `system_mode`: (static enumeration) The operating mode of the central system.  The default `OFF`. Valid values are:\n",
    "  - `OFF`: The system is off.\n",
    "  - `VENTILATING`: The system is ventilating.\n",
    "  - `HEATING`: The system is heating.\n",
    "  - `COOLING`: The system is cooling.\n",
    "\n",
    "- `system_type_central`: (static set) The central system type, if any. The default is `NONE`. Valid options are:\n",
    "  - `NONE`: No central system is present.\n",
    "  - `HEAT`: Only central heating is present.\n",
    "  - `COOL`: Only central cooling is present.\n",
    "  - `BOTH`: Both central heating and cooling are present. This is equivalent to `HEAT|COOL`.\n",
    "\n",
    "- `system_type_economizer`: (static enumeration) The type of economic used by the central cooling system, if any. The default is `NONE`. Valid options are:\n",
    "  - `NONE`: No economizer present\n",
    "  - `DRYBULB`: Economizer uses drybulb temperature sensor\n",
    "  - `WEBBULB`: Economizer uses wetbulb temperature sensor\n",
    "  - `DIFFERENTIAL`: Economizer uses differential of two wetbulb sensors.\n",
    "\n",
    "- `system_type_local`: (static set) The type of local unit heating/cooling present. The default is `NONE`. Valid options are:\n",
    "  - `NONE`: No local system is present.\n",
    "  - `HEAT`: Only local heating is present.\n",
    "  - `COOL`: Only local cooling is present.\n",
    "  - `BOTH`: Both local heating and cooling are present. This is equivalent to `HEAT|COOL`.\n",
    "\n",
    "- `system_type_ventilation`: (static enumeration) The type of ventilation system in use. The default is `NONE`. Valid values are:\n",
    "  - `NONE`: No artificial ventilation is present\n",
    "  - `LOCAL`: Local-only ventilation is present\n",
    "  - `CENTRAL`: Central ventilation is present"
   ]
  },
  {
   "cell_type": "markdown",
   "metadata": {},
   "source": [
    "## Unit Parameters\n",
    "\n",
    "- `unit_appliance_types`: (static set) The type of appliances installed in the units. The default `REFRIGERATOR`. Valid values are:\n",
    "  - `COOKING`: Units have cooking appliances.\n",
    "  - `DISHWASHER`: Units have dishwashers.\n",
    "  - `DRYER`: Units have dryers.\n",
    "  - `REFRIGERATOR`: Units have refrigerators.\n",
    "  - `NONE`: Units have no appliances.\n",
    "  - `WASHER`: Units have washers.\n",
    "\n",
    "- `unit_capacity_cooking[kW]`: (static double) The maximum power of the cooking appliances in units. The default is `3.0 kW`.\n",
    "\n",
    "- `unit_capacity_dishwasher[kW]`: (static double) The maximum power of the dishwashing appliances in units. The default is `1.8 kW`.\n",
    "\n",
    "- `unit_capacity_dryer[kW]`: (static double) The maximum power demand of dryers in units. The default is `3.0 kW`.\n",
    "\n",
    "- `unit_capacity_lights[kW]`: (static double) The maximum lighting demand in units. The default is based on floor area, i.e., `0.6 W/sf`.\n",
    "\n",
    "- `unit_capacity_plugs[kW]`: (static double) The maximum non-lighting plug load demand in units. The default is based on floor area, i.e., `0.5 W/sf`.\n",
    "\n",
    "- `unit_capacity_refrigerator[kW]`: (static double) The maximum refrigeration demand in units. The default is `200 W`.\n",
    "\n",
    "- `unit_capacity_washer[kW]`: (static double) The maximum washer power demand in units. The default is `1.0 kW`.\n",
    "\n",
    "- `unit_cooling_capacity[kBtu/h]`: (static double) The cooling capacity of the local system, if any. The default is computed based on design conditions (see below).\n",
    "\n",
    "- `unit_cooling_efficiency[kBtu/kW]`: (static double) The local cooling system efficiency. The default is `15 kBtu/kWh`.\n",
    "\n",
    "- `unit_cooling_setpoint[degF]`: (input double) The local cooling system temperature setpoint. The default is `78 degF`.\n",
    "\n",
    "- `unit_demand_cooking[pu]`: (dynamic double) The fraction of the cooking power capacity that is active. The default is set by the residential cooking schedule.\n",
    "\n",
    "- `unit_demand_dishwasher[pu]`: (dynamic double) The fraction of the dishwasher power capacity that is active. The default is set by the residential dishwasher schedule.\n",
    "\n",
    "- `unit_demand_dryer[pu]`: (dynamic double) The fraction of the dryer power capacity that is active. The default is set by the residential dryer schedule.\n",
    "\n",
    "- `unit_demand_lights[pu]`: (dynamic double) The fraction of the lighting power capacity that is active. The default is set by the residential lighting schedule.\n",
    "\n",
    "- `unit_demand_plugs[pu]`: (dynamic double) The fraction of the plugs power capacity that is active. The default is set by the residential plugs schedule.\n",
    "\n",
    "- `unit_demand_refrigerator[pu]`: (dynamic double) The fraction of the refrigerator power capacity that is active. The default is set by the residential refrigerator schedule.\n",
    "\n",
    "- `unit_demand_washer[pu]`: (dynamic double) The fraction of the washer power capacity that is active. The default is set by the residential washer schedule.\n",
    "\n",
    "- `unit_depth[ft]`: (static double) The unit depth is the average distance from the core wall to the perimeter meter. The default is `40 ft`\n",
    "\n",
    "- `unit_heating_capacity[kBtu/h]`: (static double) The heating capacity of the local system, if any. The default is computed based on design conditions (see below).\n",
    "\n",
    "- `unit_heating_efficiency[kBtu/kWh]`: (static double) The local heating system efficiency. The default is `10 kBtu/kWh`. Note that the effectiveness of a heating decline with lower outdoor temperature, but the heating efficiency is never below `3.4 kBtu/kWh`.\n",
    "\n",
    "- `unit_heating_setpoint[degF]`: (input double)  The local heating system temperature setpoint. The default is `70 degF`.\n",
    "\n",
    "- `unit_mode`: (dynamic enumeration) The local system mode. The default is `OFF`. Valid values are:\n",
    "  - `OFF`: The system is off.\n",
    "  - `VENTILATING`: The system is ventilating.\n",
    "  - `HEATING`: The system is heating.\n",
    "  - `COOLING`: The system is cooling.\n",
    "\n",
    "- `unit_width[ft]`: (static double) The unit width is the distance from one unit interior wall to the next. The default is `25` ft."
   ]
  },
  {
   "cell_type": "markdown",
   "metadata": {},
   "source": [
    "## Vacant Unit Parameters\n",
    "\n",
    "- `vacant_cooling_setpoint[degF]`: The vacant unit cooling setpoint. The default is `120 degF`.\n",
    "\n",
    "- `vacant_heating_setpoint[degF]`: The vacant unit heating setpoint. The default is `50 degF`.\n",
    "\n",
    "- `vacant_mode`: The vacant unit system mode. The default `OFF`. Valid values are:\n",
    "  - `OFF`: The system is off.\n",
    "  - `VENTILATING`: The system is ventilating.\n",
    "  - `HEATING`: The system is heating.\n",
    "  - `COOLING`: The system is cooling.\n"
   ]
  },
  {
   "cell_type": "markdown",
   "metadata": {},
   "source": [
    "# Thermal Model\n",
    "\n",
    "The thermal model is a based on a four-zone ETP model, where the following zone variables are defined:\n",
    "\n",
    "Table 1: Zone variables\n",
    "\n",
    "| Zone Name            | Temperature | Mass   | Heat   |\n",
    "| :------------------- | :---------: | :----: | :----: |\n",
    "| Occupied apartment   | $T_A$       | $C_A$  | $Q_A$  |\n",
    "| Unoccupied apartment | $T_U$       | $C_U$  | $Q_U$  |\n",
    "| Building core        | $T_C$       | $C_C$  | $Q_C$  |\n",
    "| Building mass        | $T_M$       | $C_M$  |   -    |\n",
    "| Outdoor air          | $T_O$       |   -    |   -    |"
   ]
  },
  {
   "cell_type": "markdown",
   "metadata": {},
   "source": [
    "The model assumes that every zone is connected to every other zone with the following zone-zone conductance parameters defined\n",
    "\n",
    "Table 2: Zone-zone conductance\n",
    "\n",
    "| Conductance | Connected zones                       |\n",
    "| ----------- | ------------------------------------- |\n",
    "| $U_{OA}$    | Occupied apartment & outdoor air      |\n",
    "| $U_{OU}$    | Unoccupied apartment & outdoor air    |\n",
    "| $U_{OC}$    | Building core & outdoor air           |\n",
    "| $U_{OM}$    | Building mass & outdoor air           |\n",
    "| $U_{AU}$    | Occupied & unoccupied apartments      |\n",
    "| $U_{AC}$    | Occupied apartments & building core   |\n",
    "| $U_{AM}$    | Occupied apartments & building mass   |\n",
    "| $U_{UC}$    | Uncccupied apartments & building core |\n",
    "| $U_{UM}$    | Unoccupied apartments & building mass |\n",
    "| $U_{CM}$    | Building core & building mass         |"
   ]
  },
  {
   "cell_type": "markdown",
   "metadata": {},
   "source": [
    "The thermal dynamics are defined by Equation (1)\n",
    "\n",
    "$$\n",
    "    \\begin{bmatrix} \n",
    "        \\dot T_A \n",
    "    \\\\ \n",
    "        \\dot T_U \n",
    "    \\\\\n",
    "        \\dot T_C\n",
    "    \\\\\n",
    "        \\dot T_M\n",
    "    \\end{bmatrix}\n",
    "    =\n",
    "    \\begin{bmatrix}\n",
    "        -\\frac{U_{OA}+U_{AU}+U_{AC}+U_{AM}}{C_A} & \\frac{U_{AU}}{C_A} & \\frac{U_{AC}}{C_A} & \\frac{U_{AM}}{C_A}\n",
    "    \\\\\n",
    "        \\frac{U_{AU}}{C_U} & -\\frac{U_{OA}+U_{AU}+U_{UC}+U_{UM}}{C_U} & \\frac{U_{UC}}{C_U} & \\frac{U_{UM}}{C_U}\n",
    "    \\\\\n",
    "        \\frac{U_{AC}}{C_C} & \\frac{U_{UC}}{C_C} & -\\frac{U_{OC}+U_{AC}+U_{UC}+U_{CM}}{C_C} & \\frac{U_{CM}}{C_C}\n",
    "    \\\\\n",
    "        \\frac{U_{AM}}{C_M} & \\frac{U_{UM}}{C_M} & \\frac{U_{CM}}{C_M} & -\\frac{U_{OM}+U_{AM}+U_{UM}+U_{CM}}{C_M}\n",
    "    \\end{bmatrix}\n",
    "    \\begin{bmatrix}\n",
    "        T_A\n",
    "    \\\\\n",
    "        T_U\n",
    "    \\\\\n",
    "        T_C\n",
    "    \\\\\n",
    "        T_M\n",
    "    \\end{bmatrix}\n",
    "    +\n",
    "    \\begin{bmatrix}\n",
    "        \\frac{1}{C_A} & 0 & 0 & \\frac{U_{OA}}{C_A}\n",
    "    \\\\\n",
    "        0 & \\frac{1}{C_U} & 0 & \\frac{U_{OU}}{C_U}\n",
    "    \\\\\n",
    "        0 & 0 & \\frac{1}{C_C} & \\frac{U_{OC}}{C_C}\n",
    "    \\\\\n",
    "        0 & 0 & 0 & \\frac{U_{OM}}{C_M}\n",
    "    \\end{bmatrix}\n",
    "    \\begin{bmatrix}\n",
    "        Q_A\n",
    "    \\\\\n",
    "        Q_U\n",
    "    \\\\\n",
    "        Q_C\n",
    "    \\\\\n",
    "        T_O\n",
    "    \\end{bmatrix}\n",
    "    \\qquad (1)\n",
    "$$\n",
    "where the heat gains are\n",
    "- $Q_A = Q_{AH} + Q_{AS} + Q_{AV} + Q_{AE}$,\n",
    "- $Q_U = Q_{UH} + Q_{US}$\n",
    "- $Q_C = Q_{CH} + Q_{CS} + Q_{CV}$"
   ]
  },
  {
   "cell_type": "markdown",
   "metadata": {},
   "source": [
    "The heat gains for each zones are defined as follows\n",
    "\n",
    "Table 3: Occupied apartment heat gains\n",
    "\n",
    "| Heat source      | Parameter |\n",
    "| ---------------- | --------- |\n",
    "| HVAC             | $Q_{AH}$  |\n",
    "| Solar gain       | $Q_{AS}$  |\n",
    "| Ventilation gain | $Q_{AV}$  |\n",
    "| End-use gains    | $Q_{AE}$  |\n",
    "\n",
    "Table 4: Unoccupied apartment heat gains \n",
    "\n",
    "| Heat source      | Parameter |\n",
    "| ---------------- | --------- |\n",
    "| HVAC             | $Q_{UH}$  |\n",
    "| Solar gain       | $Q_{US}$  |\n",
    "\n",
    "Table 5: Building core heat gains\n",
    "\n",
    "| Heat source      | Parameter |\n",
    "| ---------------- | --------- |\n",
    "| HVAC             | $Q_{CH}$  |\n",
    "| Solar gain       | $Q_{CS}$  |\n",
    "| Ventilation gain | $Q_{CV}$  |\n",
    "\n",
    "\n",
    "The following end-uses contribute to heat gain in building zones and are driven by schedules\n",
    "\n",
    "Table 6: Zone end-use schedule source\n",
    "\n",
    "| End-use     | $Q_{AE}$      | $Q_{CE}$     |\n",
    "| ----------- | ------------- | ------------ |\n",
    "| Lights      | `lighting`    | `hallway`    |\n",
    "| Plugs       | `plugs`       |      -       |\n",
    "| Cooking     | `cooking`     |      -       |\n",
    "| Dishwashing | `dishwashing` |      -       |\n",
    "| Washing     | `washing`     |      -       |\n",
    "| Drying      | `drying`      |      -       |\n",
    "| Hotwater    | `hotwater`    |      -       |\n"
   ]
  },
  {
   "cell_type": "markdown",
   "metadata": {},
   "source": [
    "Equation (1) is represented canonically as\n",
    "\n",
    "$$\n",
    "    \\boxed { \\dot {\\textbf T} = \\textbf A \\textbf T + \\textbf B_1 \\textbf q + \\textbf B_2 \\textbf u } \\qquad (2)\n",
    "$$\n",
    "\n",
    "where $\\textbf{T} = \\begin{bmatrix} T_A & T_U & T_C & T_M \\end{bmatrix}^\\mathrm{T}$, $\\textbf q$ are the ambient heat gains/losses, and $\\textbf u$ is the controlled heat gains/losses, with\n",
    "\n",
    "$$\n",
    "    \\textbf B_1 = \\begin{bmatrix}\n",
    "        {U_{OA}} \\over {C_A} &   a \\over {C_A} &               0 &               0   \n",
    "    \\\\\n",
    "        {U_{OU}} \\over {C_U} &               0 &   a \\over {C_U} &               0   \n",
    "    \\\\\n",
    "        {U_{OC}} \\over {C_C} &               0 &               0 &   a \\over {C_C} \n",
    "    \\\\\n",
    "        {U_{OM}} \\over {C_M} & {1-a}\\over{C_M} & {1-a}\\over{C_M} & {1-a}\\over{C_M}   \n",
    "    \\end{bmatrix}\n",
    "    \\qquad \\textrm{and} \\qquad\n",
    "    \\textbf B_2 = \\begin{bmatrix}\n",
    "          a \\over {C_A} &               0 &               0 &             0\n",
    "    \\\\\n",
    "                      0 &   a \\over {C_U} &               0 &             0\n",
    "    \\\\\n",
    "                      0 &               0 &   a \\over {C_C} &             0\n",
    "    \\\\\n",
    "        {1-a}\\over{C_M} & {1-a}\\over{C_M} & {1-a}\\over{C_M} & 1 \\over {C_M} \n",
    "    \\end{bmatrix}\n",
    "$$\n",
    "\n",
    "and\n",
    "\n",
    "$$\n",
    "    \\textbf q = \\begin{bmatrix} T_O \\\\ Q_{AS} + Q_{AV} + Q_{AE} \\\\ Q_{US} \\\\ Q_{CS} + Q_{CV} + Q_{CE} \\end{bmatrix}\n",
    "    \\qquad \\textrm{and} \\qquad\n",
    "    \\textbf u = \\begin{bmatrix} Q_{AH} \\\\ Q_{UH} \\\\ Q_{CH} \\\\ Q_{MH} \\end{bmatrix}.\n",
    "$$"
   ]
  },
  {
   "cell_type": "markdown",
   "metadata": {},
   "source": [
    "# Heating/Cooling Design Conditions\n",
    "\n",
    "The following parameters have defaults that are computed automatically if values are not provided in the model.\n",
    "\n",
    "TODO: derive sizing calculations"
   ]
  },
  {
   "cell_type": "markdown",
   "metadata": {},
   "source": [
    "## HVAC Controls\n",
    "\n",
    "The following thermostat setpoints are use to control HVAC\n",
    "\n",
    "| Zone       | Heating  | Cooling  |\n",
    "| ---------- | -------- | -------- |\n",
    "| Occupied   | $T_{AH}$ | $T_{AC}$ |\n",
    "| Unccupied  | $T_{UH}$ | $T_{UC}$ |\n",
    "| Core       | $T_{CH}$ | $T_{CC}$ |"
   ]
  },
  {
   "cell_type": "markdown",
   "metadata": {},
   "source": [
    "### System modes\n",
    "\n",
    "The following types of systems can be modeled.\n",
    "\n",
    "| Local | Central | Ventilation | Economizer | Description\n",
    "| ----- | ------- | ----------- | ---------- |-----------------------------------\n",
    "| Heat  | None    | None        | None       | Only local heating is available\n",
    "| Cool  | None    | None        | None       | Only local cooling is available\n",
    "| Both  | None    | None        | None       | Only local heating and cooling is available\n",
    "| None  | Heat    | None        | None       | Only central heating is available using hotwater/steam pipes\n",
    "| None  | Cool    | None        | None       | Only central cooling is available using chilled water pipes\n",
    "| None  | Both    | None        | None       | Only central heating and cooling is available using four pipes\n",
    "| Cool  | Heat    | None        | None       | Local cooling and central heating using hotwater/steam pipes\n",
    "| Heat  | Cool    | None        | None       | Local heating and central cooling using chilled water pipes\n",
    "| Heat  | None    | Central     | Optional   | Central ventilation with terminal heating\n",
    "| Cool  | None    | Central     | Optional   | Central ventilation with terminal cooling\n",
    "| Both  | None    | Central     | Optional   | Central ventilation with terminal heating and cooling\n",
    "| None  | Both    | Central     | Optional   | Forced air central heating and cooling\n",
    "| Heat  | Both    | Central     | Optional   | Forced air central heating and cooling with terminal heating\n",
    "| Cool  | Both    | Central     | Optional   | Forced air central heating and cooling with terminal cooling\n",
    "\n",
    "When a central system is present and only one local mode is allowed, the central will operate in the unavailable local mode if any zone requires it. The remaining zones will use the local mode to meet local conditioning requirement, if any.  If the ventilation is central, then the local mode will use the central system mode supply air temperature as the basis for the local mode (e.g., terminal reheat).\n",
    "\n",
    "If an economizer is present and the system is operating in cooling mode, then the system load is reduced by the factor\n",
    "\n",
    "$$\n",
    "    E = {{T_O-T_D} \\over {T_R-T_D}}\n",
    "$$\n",
    "where\n",
    "- $T_D$ is the cooling air supply temperature (e.g., 50 degF)\n",
    "- $T_R$ is the return air temperature, which may be computed from the floor-area-weighted indoor air temperatures of the conditioned spaced, e.g., $T_R = {{A_AT_A+A_CT_C}\\over{A_A+A_C}}$, with $A_A$ and $A_C$ being the total occupied apartment and core space floor areas.\n",
    "\n",
    "Otherwise, the parameter $E = 1$."
   ]
  },
  {
   "cell_type": "markdown",
   "metadata": {},
   "source": [
    "# Heating/Cooling Solution Method\n",
    "\n",
    "The model assumes that the setpoints are maintained in the controlled zone, and computes the heating/cooling load required by setting Equation (2) equal to zero.  However, if the heating/cooling load exceeds the capacity of the central plant or the HVAC units, then the power will be saturated, and the Equation (2) will provide the temperature changes, if any, for each zone."
   ]
  },
  {
   "cell_type": "markdown",
   "metadata": {},
   "source": [
    "## Step 1 - Determine the system mode\n",
    "\n",
    "Determine the zone balance temperatures by solving Equation (2) for $\\textbf{T}$ given $\\dot {\\textbf T} = 0$ and $\\textbf{u} = 0$ \n",
    "\n",
    "$$\n",
    "    \\textbf{T}^o = - \\textbf{A}^{-1} \\textbf{B}_1 \\textbf{q}\n",
    "$$\n",
    "\n",
    "For each zone $n \\in {A,C,H}$, the operating mode is\n",
    "\n",
    "$$\n",
    "    m_n = \\left\\{ \\begin{matrix}\n",
    "        +1 &:& T_n \\lt T_n^o\n",
    "    \\\\\n",
    "        -1 &:& T_n \\ge T_n^o\n",
    "    \\end{matrix} \\right.\n",
    "$$"
   ]
  },
  {
   "cell_type": "markdown",
   "metadata": {},
   "source": [
    "## Step 2 - Compute the equilibrium load\n",
    "\n",
    "Solve Equation (2) for the augmented $\\textbf{u}$ at the temperature setpoint given $\\dot {\\textbf T}=0$, i.e.,\n",
    "\n",
    "$$\n",
    "    {\\textbf u} = -{\\textbf B}_2^{-1} ( {\\textbf A} {\\textbf T}^* + {\\textbf B}_1 \\textbf{q} )\n",
    "$$\n",
    "\n",
    "where the setpoint is\n",
    "\n",
    "$$\n",
    "    {\\textbf T}^* = T_{set} - m \\begin{bmatrix}  0 \\\\ T_{unoccupied} \\\\ T_{core} \\\\ 0 \\end{bmatrix}\n",
    "$$\n",
    "\n",
    "where \n",
    "\n",
    "- $T_{set}$ is the general setpoint temperature for the building,\n",
    "- $m$ is the building operating mode, i.e., `-1` for cooling and `+1` for heating,\n",
    "- $T_{unoccupied}$ is the unoccupied temperature setpoint offset, e.g., `10 degF`, and\n",
    "- $T_{core}$ is the core temperature setpoint offset, e.g., `5 degF`."
   ]
  },
  {
   "cell_type": "markdown",
   "metadata": {},
   "source": [
    "## Step 3 - Constrain the heat gain/loss\n",
    "\n",
    "The value of $\\textbf u$ obtain from Equation (2) may exceed the limits of the HVAC system, in which can they must be constrained such that element-wise\n",
    "\n",
    "$$\n",
    "    \\textbf u^* = \\textbf u \\qquad \\mathrm{s.t} \\qquad \\underline {\\textbf u} \\le {\\textbf u} \\le \\overline {\\textbf u}\n",
    "$$\n",
    "\n",
    "where $\\underline {\\textbf u}$ is the maximum cooling capacity and $\\overline {\\textbf u}$ is the maximum heating capacity of the HVAC system.  "
   ]
  },
  {
   "cell_type": "markdown",
   "metadata": {},
   "source": [
    "## Step 4 - Compute the equilibrium temperature\n",
    "\n",
    "Solve for the equilibrium temperature using Equation (2) given the control input $\\textbf{u}$\n",
    "\n",
    "$$\n",
    "    \\tilde{\\textbf T} = -{\\textbf A}^{-1}({\\textbf B}_1 {\\textbf q} + {\\textbf B}_2 {\\textbf u^*})\n",
    "$$"
   ]
  },
  {
   "cell_type": "markdown",
   "metadata": {},
   "source": [
    "## Step 5 - Compute the zone temperature changes\n",
    "\n",
    "Given the constrained values $\\textbf u^*$, we update the zone temperatures for the elapsed time $t$ using the solution Equation (2):\n",
    "\n",
    "$$\n",
    "    {\\textbf T}(t) = \\tilde{\\textbf T} + e^{\\textbf A t} {\\textbf T}(0) + {\\textbf A}^{-1} ( e^{\\textbf A t} - {\\textbf I} ) ( {\\textbf B}_1 {\\textbf q} + {\\textbf B}_2 {\\textbf u}^* )\n",
    "$$"
   ]
  },
  {
   "cell_type": "markdown",
   "metadata": {},
   "source": [
    "# Electric Power Demand\n",
    "\n",
    "The power consumption is the sum of all the end-use loads and the HVAC load given the efficiency of the HVAC systems:\n",
    "\n",
    "$$\n",
    "    P = Q_{AE} + Q_{CE} + { E\\over \\eta_M } ||u||_1^*\n",
    "$$\n",
    "\n",
    "where $\\eta_M$ is the efficiency of the HVAC system in the mode $M$."
   ]
  },
  {
   "cell_type": "markdown",
   "metadata": {},
   "source": [
    "# Thermal Parameters\n",
    "\n",
    "The following parameters are used to compute the thermal parameters for a building.\n",
    "\n",
    "Table 3: Building design parameters\n",
    "\n",
    "| Parameter                  | Description\n",
    "| -------------------------- | -------------------------------------------\n",
    "| $N$                        | Number of floors (integer)\n",
    "| $M$                        | Number of units per floor (integer)\n",
    "| $K_X$                      | Exterior core (no=0, yes=1)\n",
    "| $K_D$                      | Core loading (0=one side, 1=both sides)\n",
    "| $F$                        | Floor thickness (ft)\n",
    "| $X$                        | Unit width (ft)\n",
    "| $Y$                        | Unit depth (ft)\n",
    "| $Z$                        | Unit height (ft)\n",
    "| $W$                        | Interior core width (ft)\n",
    "| $A_W$                      | Unit window area (sf)\n",
    "| $A_D$                      | Unit door area (sf)\n",
    "| $C_{int}$                  | Unit interior mass (Btu/degF)\n",
    "| $S_{floor}$                | Floor specific mass (Btu/degF.sf)\n",
    "\n",
    "Table 4: Building thermal properties\n",
    "\n",
    "| Parameter    | Description\n",
    "| ------------ | ---------------------\n",
    "| $R_{ext}$    | Exterior wall R-value\n",
    "| $R_{int}$    | Interior wall R-value\n",
    "| $R_{window}$ | Window R-value\n",
    "| $R_{door}$   | Unit door R-value\n",
    "| $R_{mass}$   | Mass R-value (i.e., floor, ceiling, furnishings)\n",
    "\n",
    "Table 5: Derived building properties\n",
    "\n",
    "| Parameter | Calculation &nbsp;&nbsp;&nbsp;&nbsp;&nbsp;&nbsp;&nbsp;&nbsp;        | Description\n",
    "| --------- | ------------------- | -------------------------------------------\n",
    "| $A$       | $ X Y $             | Unit floor area (sf)\n",
    "| $A_U$     | $ Y Z $             | Interior unit-unit wall area (sf)\n",
    "| $A_O$     | $ X Z - A_W $       | Exterior unit wall area (sf)\n",
    "| $A_C$     | $ Z X - A_D $       | Interior unit-core wall area (sf)\n",
    "| $V$       | $ X Y Z $           | Unit volumne (cf)"
   ]
  },
  {
   "cell_type": "markdown",
   "metadata": {},
   "source": [
    "To compute the thermal parameters we identify the expore areas for each zone. The occupancy factor $\\beta$ is the ratio of occupied units to the total number of units.\n",
    "\n",
    "Table 6: Conductance calculations\n",
    "\n",
    "| Conductance | Parameter calculation &nbsp;&nbsp;&nbsp;&nbsp;&nbsp;&nbsp;&nbsp;&nbsp;&nbsp;&nbsp;&nbsp;&nbsp;&nbsp;&nbsp;&nbsp;&nbsp;&nbsp;&nbsp;&nbsp;&nbsp;&nbsp;&nbsp;&nbsp;&nbsp;&nbsp;&nbsp;&nbsp;&nbsp;&nbsp;&nbsp;&nbsp;&nbsp;&nbsp;&nbsp;&nbsp;&nbsp;&nbsp;&nbsp;&nbsp;&nbsp;&nbsp;&nbsp;&nbsp;&nbsp;&nbsp;&nbsp;&nbsp;&nbsp;&nbsp;&nbsp;&nbsp;&nbsp;&nbsp;\n",
    "| ----------- | ---------------------------------------\n",
    "| $U_{OA}$    | $ N M \\beta (K_X+1) \\left( { {A_O} \\over {R_{ext}} } + { {A_W} \\over {R_{window}} } \\right) $\n",
    "| $U_{OU}$    | $ N M (1-\\beta) (K_X+1) \\left( { {A_O} \\over {R_{ext}} } + { {A_W} \\over {R_{window}}} \\right) $\n",
    "| $U_{OC}$    | $ N (1-K_X) [ 2 W Z + (K_D+1) M X ] \\left( { {A_O} \\over {R_{ext}} } + { {A_W} \\over {R_{window}} } \\right) $\n",
    "| $U_{OM}$    | $ N {{F (MX+2(K_D+1)Y+2W)} \\over {R_{ext}}} $\n",
    "| $U_{AU}$    | $ N M \\beta (1-\\beta) {A_U} \\over {R_{int}} $\n",
    "| $U_{AC}$    | $ N M \\beta \\left( { {A_W} \\over {(1-K_X) R_{int} + K_X R_{ext}}} + { {A_D} \\over {R_{door}} } \\right) $\n",
    "| $U_{AM}$    | $ N M \\beta {A \\over {R_{mass}}} $\n",
    "| $U_{UC}$    | $ N M (1-\\beta) \\left( { {A_W} \\over {(1-K_X) R_{int} + K_X R_{ext}}} + { {A_D} \\over {R_{door}} } \\right) $\n",
    "| $U_{UM}$    | $ N M (1-\\beta) { A \\over {R_{mass}} } $\n",
    "| $U_{CM}$    | $ N W M { {K_D+1} \\over {R_{floor}}} $\n",
    "\n",
    "Table 7: Capacitance calculation\n",
    "\n",
    "| Heat capacity | Parameter calculation &nbsp;&nbsp;&nbsp;&nbsp;&nbsp;&nbsp;&nbsp;&nbsp;&nbsp;&nbsp;&nbsp;&nbsp;&nbsp;&nbsp;&nbsp;&nbsp;\n",
    "| ------------- | -------------------------------------\n",
    "| $C_A$         | $ N M \\beta ( V S_{air} + C_{int} ) $\n",
    "| $C_U$         | $ N M (1-\\beta) ( V S_{air} + C_{int}) $\n",
    "| $C_C$         | $ N M X W H C_{air} $\n",
    "| $C_M$         | $ N M S_{floor} ( A + K X W )  $"
   ]
  },
  {
   "cell_type": "markdown",
   "metadata": {},
   "source": [
    "# Example\n",
    "\n",
    "The following example illustrates this method.  The method requires a linear algebra library:"
   ]
  },
  {
   "cell_type": "code",
   "execution_count": 1,
   "metadata": {},
   "outputs": [],
   "source": [
    "from numpy import *"
   ]
  },
  {
   "cell_type": "markdown",
   "metadata": {},
   "source": [
    "The outdoor temperature is assumed to be 20F below the indoor setpoint."
   ]
  },
  {
   "cell_type": "code",
   "execution_count": 2,
   "metadata": {},
   "outputs": [],
   "source": [
    "# set outdoor temperature (delta from T_A and T_M)\n",
    "T_O = -20 # computed from weather data relative the apartment setpoint (e.g., T_A = 40 degF - T_O)"
   ]
  },
  {
   "cell_type": "markdown",
   "metadata": {},
   "source": [
    "The building has the following characteristics"
   ]
  },
  {
   "cell_type": "code",
   "execution_count": 3,
   "metadata": {},
   "outputs": [],
   "source": [
    "# Table 3: Building design parameters\n",
    "N = 10 # 10 floors\n",
    "M = 20 # 20 units per floor\n",
    "K_X = 0 # corridor is not exterior\n",
    "K_D = 1 # corridor is double-sided\n",
    "F = 2 # floor thickness (ft)\n",
    "X = 30 # unit width (ft)\n",
    "Y = 40 # unit depth (ft)\n",
    "Z = 7.5 # unit height (ft)\n",
    "W = 4.5 # corridor width (ft)\n",
    "omega = 0.5 # exterior window/wall ratio\n",
    "A_D = 3*6.6 # unit door area (sf)\n",
    "C_int = 2000 # occupied unit interior thermal capacitance (Btu/degF)\n",
    "S_floor = 150 # density of concrete floor (Btu/cf)"
   ]
  },
  {
   "cell_type": "code",
   "execution_count": 4,
   "metadata": {},
   "outputs": [],
   "source": [
    "# Table 4: Building thermal properties\n",
    "R_ext = 19\n",
    "R_int = 5\n",
    "R_window = 2\n",
    "R_door = 3\n",
    "R_mass = 1\n",
    "R_floor = 1"
   ]
  },
  {
   "cell_type": "code",
   "execution_count": 5,
   "metadata": {},
   "outputs": [],
   "source": [
    "# Table 5: Derived building properties\n",
    "A_W = omega*X*Z # unit window area (sf)\"\"\n",
    "A_F = X*Y # unit floor area (ft)\n",
    "A_U = Y*Z # unit-unit wall area (ft)\n",
    "A_O = X*Z - A_W # unit-outdoor wall area (ft)\n",
    "A_C = X*Z - A_D # unit-core wall area (ft)\n",
    "V = X*Y*Z # unit volume (cf)\n",
    "S_air = 0.24 * 0.074 # specific heat x density of air (Btu/degF.cf)"
   ]
  },
  {
   "cell_type": "code",
   "execution_count": 6,
   "metadata": {},
   "outputs": [],
   "source": [
    "# Building occupancy\n",
    "beta = 0.9 # fraction of units that are occupied"
   ]
  },
  {
   "cell_type": "code",
   "execution_count": 7,
   "metadata": {},
   "outputs": [],
   "source": [
    "# set zone heat gains\n",
    "Q_AS = 500000 # solar gains to occupied apartments (computed from weather data)\n",
    "Q_AV = -10000 # ventilation gains to occupied apartments (computed from weather data)\n",
    "Q_AE = 10000 # electric load gains to occupied aparments (computed from equipment data)\n",
    "Q_US = (1-beta)*Q_AS # solar gains to unoccupied apartments (computed from weather data)\n",
    "Q_CS = 1000 # solar gains to core spaces (computed from weather data)\n",
    "Q_CV = -5000 # ventilation gains to core spaces (computed from weather data)"
   ]
  },
  {
   "cell_type": "code",
   "execution_count": 8,
   "metadata": {},
   "outputs": [],
   "source": [
    "# Building mode\n",
    "m = -sign(T_O) # -1 for cooling, +1 for heating"
   ]
  },
  {
   "cell_type": "markdown",
   "metadata": {},
   "source": [
    "The HVAC system capabilities are"
   ]
  },
  {
   "cell_type": "code",
   "execution_count": 9,
   "metadata": {},
   "outputs": [],
   "source": [
    "# set heat/cool constraints\n",
    "u_min = matrix([[-500000],[-200000],[-1000000],[0]])\n",
    "u_max = matrix([[500000],[200000],[1500000],[0]])\n",
    "# plant efficiency\n",
    "e_cool = 3.0\n",
    "e_heat = 4.0\n",
    "# temperature setpoints\n",
    "T_unoccupied = 10 # unoccupied zone temperature setpoint offset (degF)\n",
    "T_core = 5 # core zone temperature setpoint offset (degF)"
   ]
  },
  {
   "cell_type": "code",
   "execution_count": 10,
   "metadata": {},
   "outputs": [
    {
     "name": "stdout",
     "output_type": "stream",
     "text": [
      "Table 6: Conductance calculations (kBtu/degF.h)\n",
      "\n",
      "U_OA U_OU U_OC U_OM U_AU U_AC U_AM U_UC U_UM U_CM\n",
      "---- ---- ---- ---- ---- ---- ---- ---- ---- ----\n",
      "  11    1   42    1    1    5  216    1   24    2\n"
     ]
    }
   ],
   "source": [
    "# Table 6: Conductance calculations\n",
    "U_OA = N * M * beta * (K_X+1) * ( A_O/R_ext + A_W/R_window )\n",
    "U_OU = U_OA * (1-beta) / beta\n",
    "U_OC = N * (1-K_X) * (2*W*Z+(1-K_D)*M*X) * ( A_O/R_ext + A_W/R_window )\n",
    "U_OM = N * F * (M*X+2*(K_D+1)*Y+2*W) / R_ext\n",
    "U_AU = N * M * beta * (1-beta) * A_U/R_int\n",
    "U_AC = N * M * beta * ( (A_W/((1-K_X)*R_int+K_X*R_ext)) + (A_D/R_door) ) \n",
    "U_AM = N * M * beta * A_F/R_mass\n",
    "U_UC = N * M * (1-beta) * ( (A_W/((1-K_X)*R_int+K_X*R_ext)) + (A_D/R_door) )\n",
    "U_UM = N * M * (1-beta) * A_F/R_mass\n",
    "U_CM = N * M * W * (K_D+1)/R_floor\n",
    "print(\"Table 6: Conductance calculations (kBtu/degF.h)\\n\\n\" + \n",
    "      \"U_OA U_OU U_OC U_OM U_AU U_AC U_AM U_UC U_UM U_CM\\n\" +\n",
    "      \"---- ---- ---- ---- ---- ---- ---- ---- ---- ----\\n\" +\n",
    "      \"%4.0f %4.0f %4.0f %4.0f %4.0f %4.0f %4.0f %4.0f %4.0f %4.0f\" \n",
    "      % (U_OA/1000,U_OU/1000,U_OC/1000,U_OM/1000,U_AU/1000,\n",
    "         U_AC/1000,U_AM/1000,U_UC/1000,U_UM/1000,U_CM/1000))"
   ]
  },
  {
   "cell_type": "code",
   "execution_count": 11,
   "metadata": {},
   "outputs": [
    {
     "name": "stdout",
     "output_type": "stream",
     "text": [
      "Table 7: Capacitance calculations (kBtu/degF)\n",
      "\n",
      "C_A  C_U  C_C  C_M\n",
      "---- ---- ---- ----\n",
      "  29    3    4 8560\n"
     ]
    }
   ],
   "source": [
    "# Table 7: Capacitance calculations\n",
    "C_A = N * M * beta * V * S_air\n",
    "C_U = N * M * (1-beta) * V * S_air\n",
    "C_C = N * M * X * W * Z * S_air\n",
    "C_M = N * M * (C_int + (1 + X * W) * F * S_floor)\n",
    "print(\"Table 7: Capacitance calculations (kBtu/degF)\\n\\n\"\n",
    "     + \"C_A  C_U  C_C  C_M\\n\"\n",
    "     + \"---- ---- ---- ----\\n\"\n",
    "     + \"%4.0f %4.0f %4.0f %4.0f\"\n",
    "     % (C_A/1000,C_U/1000,C_C/1000,C_M/1000))"
   ]
  },
  {
   "cell_type": "code",
   "execution_count": 12,
   "metadata": {},
   "outputs": [
    {
     "name": "stdout",
     "output_type": "stream",
     "text": [
      "Thermal conditions\n",
      "\n",
      "T_O   Q_A  Q_U  Q_C\n",
      "degF     kBtu/h    \n",
      "---- ---- ---- ----\n",
      " -20  500   51   -5\n"
     ]
    }
   ],
   "source": [
    "# boundary condition\n",
    "q = matrix([[T_O], [Q_AS+Q_AV+Q_AE], [Q_US+Q_CS], [Q_CV]])\n",
    "print(\"Thermal conditions\\n\\n\"\n",
    "     + \"T_O   Q_A  Q_U  Q_C\\n\"\n",
    "     + \"degF     kBtu/h    \\n\"\n",
    "     + \"---- ---- ---- ----\")\n",
    "print(\"%4.0f %4.0f %4.0f %4.0f\"\n",
    "     % (q[0],q[1]/1000,q[2]/1000,q[3]/1000))"
   ]
  },
  {
   "cell_type": "code",
   "execution_count": 13,
   "metadata": {},
   "outputs": [
    {
     "data": {
      "text/plain": [
       "2"
      ]
     },
     "execution_count": 13,
     "metadata": {},
     "output_type": "execute_result"
    }
   ],
   "source": [
    "from numpy.linalg import *\n",
    "# compute the solution matrices\n",
    "A = matrix([ \n",
    "      [-(U_OA+U_AU+U_AC+U_AM)/C_A,                   U_AU/C_A,                   U_AC/C_A,                   U_AM/C_A],\n",
    "      [                  U_AU/C_U, -(U_OU+U_AU+U_UC+U_UM)/C_U,                   U_UC/C_U,                   U_UM/C_U],\n",
    "      [                  U_AC/C_C,                   U_UC/C_C, -(U_OC+U_AC+U_UC+U_CM)/C_C,                   U_CM/C_C],\n",
    "      [                  U_AM/C_M,                   U_UM/C_M,                   U_CM/C_M, -(U_OM+U_AM+U_UM+U_CM)/C_M]\n",
    "    ])\n",
    "a = 0.9 # fraction of heat gain that goes to zone instead of mass\n",
    "b = 1-a # fraction of heat gain that is taken up directly by mass\n",
    "B1 = matrix([ \n",
    "       [ U_OA/C_A, a/C_A,     0,     0],\n",
    "       [ U_OU/C_U,     0, a/C_U,     0],\n",
    "       [ U_OC/C_C,     0,     0, a/C_C],\n",
    "       [ U_OM/C_M, b/C_M, b/C_M, b/C_M]\n",
    "      ])\n",
    "B2 = matrix([ \n",
    "       [ a/C_A,     0,     0,     0],\n",
    "       [     0, a/C_U,     0,     0],\n",
    "       [     0,     0, a/C_C,     0],\n",
    "       [ b/C_M, b/C_M, b/C_M, 1/C_M]\n",
    "      ])\n",
    "ndim(B2)"
   ]
  },
  {
   "cell_type": "code",
   "execution_count": 14,
   "metadata": {},
   "outputs": [
    {
     "name": "stdout",
     "output_type": "stream",
     "text": [
      "Temperatures (degF)\n",
      "\n",
      "Zone  dT/dt   Eq   Set \n",
      "----- ----- ----- -----\n",
      "T_A    -0.0   7.9   0.0\n",
      "T_U    -0.0   7.8  10.0\n",
      "T_C     0.0 -15.8   5.0\n",
      "T_M     0.0   7.9   --\n"
     ]
    }
   ],
   "source": [
    "T = matrix([[0],[0],[0],[0]])\n",
    "Ainv = inv(A)\n",
    "T_eq = -Ainv*(B1*q)\n",
    "dT = A*T_eq + B1*q\n",
    "T_set = m*matrix([[0],[T_unoccupied],[T_core],[0]])\n",
    "print(\"Temperatures (degF)\\n\\n\"\n",
    "     + \"Zone  dT/dt   Eq   Set \\n\"\n",
    "     + \"----- ----- ----- -----\")\n",
    "print(\"%-5.5s %5.1f %5.1f %5.1f\" % ('T_A',dT[0],T_eq[0],T_set[0]))\n",
    "print(\"%-5.5s %5.1f %5.1f %5.1f\" % ('T_U',dT[1],T_eq[1],T_set[1]))\n",
    "print(\"%-5.5s %5.1f %5.1f %5.1f\" % ('T_C',dT[2],T_eq[2],T_set[2]))\n",
    "print(\"%-5.5s %5.1f %5.1f   --\" % ('T_M',dT[3],T_eq[3]))"
   ]
  },
  {
   "cell_type": "code",
   "execution_count": 15,
   "metadata": {},
   "outputs": [
    {
     "name": "stdout",
     "output_type": "stream",
     "text": [
      "shortfall = -334 kBtu/h\n",
      "dTA = -1.29 degF/h\n",
      "dTU = 62.89 degF/h\n",
      "dTC = 67.32 degF/h\n",
      "dTM = 0.02 degF/h\n",
      "dt = 53 sec\n"
     ]
    }
   ],
   "source": [
    "# initial temperature\n",
    "T = matrix([[0], [0], [0], [0]])\n",
    "# solve for the required control\n",
    "u_req = -inv(B2) * (A*T_set+B1*q);\n",
    "# constrain the solution\n",
    "u = hstack((u_max,hstack((u_req,u_min)).max(axis=1))).min(axis=1)\n",
    "# compute the temperature changes\n",
    "dT = A*T + B1*q + B2*u\n",
    "# compute time to change 0.1 degF\n",
    "dt = 3600/max(abs(dT))[0,0]\n",
    "# show me\n",
    "print(\"shortfall = %.0f kBtu/h\" % (sum(u_req - u)/1000))\n",
    "print(\"dTA = %.2f degF/h\" % (dT[0,0]))\n",
    "print(\"dTU = %.2f degF/h\" % (dT[1,0]))\n",
    "print(\"dTC = %.2f degF/h\" % (dT[2,0]))\n",
    "print(\"dTM = %.2f degF/h\" % (dT[3,0]))\n",
    "print(\"dt = %.0f sec\" % (dt))"
   ]
  },
  {
   "cell_type": "code",
   "execution_count": 16,
   "metadata": {},
   "outputs": [
    {
     "name": "stdout",
     "output_type": "stream",
     "text": [
      "Mode Power\n",
      "---- -----\n",
      "   1   371\n"
     ]
    }
   ],
   "source": [
    "# power requirements\n",
    "if m < 0: eta = e_heat \n",
    "else: eta = e_cool\n",
    "P = m*sum(u)/eta\n",
    "print(\"Mode Power\\n\"\n",
    "      + \"---- -----\\n\"\n",
    "      + \"%4.0f %5.0f\"\n",
    "      % (m,P/1000))"
   ]
  },
  {
   "cell_type": "markdown",
   "metadata": {},
   "source": [
    "---\n",
    "Worksheets..."
   ]
  },
  {
   "cell_type": "code",
   "execution_count": 17,
   "metadata": {},
   "outputs": [
    {
     "data": {
      "text/plain": [
       "matrix([[17.01131703],\n",
       "        [24.60200649],\n",
       "        [ 7.63100952],\n",
       "        [18.25342894]])"
      ]
     },
     "execution_count": 17,
     "metadata": {},
     "output_type": "execute_result"
    }
   ],
   "source": [
    "Teq = -Ainv * (B1*q+B2*u)\n",
    "Teq"
   ]
  },
  {
   "cell_type": "code",
   "execution_count": 18,
   "metadata": {},
   "outputs": [
    {
     "data": {
      "text/plain": [
       "matrix([[0.99996405, 0.        , 0.        , 0.        ],\n",
       "        [0.        , 0.79402059, 0.        , 0.        ],\n",
       "        [0.        , 0.        , 0.87439357, 0.        ],\n",
       "        [0.        , 0.        , 0.        , 0.86857764]])"
      ]
     },
     "execution_count": 18,
     "metadata": {},
     "output_type": "execute_result"
    }
   ],
   "source": [
    "t = 60/3600\n",
    "Aeig=matrix(diag(exp(eig(A)[0]*t)))\n",
    "Aeig"
   ]
  },
  {
   "cell_type": "code",
   "execution_count": 19,
   "metadata": {},
   "outputs": [
    {
     "data": {
      "text/plain": [
       "matrix([[20.19159879],\n",
       "        [29.31449428],\n",
       "        [ 8.75852011],\n",
       "        [21.64060342]])"
      ]
     },
     "execution_count": 19,
     "metadata": {},
     "output_type": "execute_result"
    }
   ],
   "source": [
    "Teq + Aeig*T + Ainv*(Aeig-eye(4))*(B1*q+B2*u)"
   ]
  },
  {
   "cell_type": "code",
   "execution_count": null,
   "metadata": {},
   "outputs": [],
   "source": []
  }
 ],
 "metadata": {
  "kernelspec": {
   "display_name": "Python 3",
   "language": "python",
   "name": "python3"
  },
  "language_info": {
   "codemirror_mode": {
    "name": "ipython",
    "version": 3
   },
   "file_extension": ".py",
   "mimetype": "text/x-python",
   "name": "python",
   "nbconvert_exporter": "python",
   "pygments_lexer": "ipython3",
   "version": "3.7.3"
  }
 },
 "nbformat": 4,
 "nbformat_minor": 2
}
