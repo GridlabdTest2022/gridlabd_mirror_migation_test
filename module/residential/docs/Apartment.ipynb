{
 "cells": [
  {
   "cell_type": "markdown",
   "metadata": {},
   "source": [
    "# Apartment Model Example\n",
    "\n",
    "The following example illustrates this method.  The method requires a linear algebra library:"
   ]
  },
  {
   "cell_type": "code",
   "execution_count": 1308,
   "metadata": {},
   "outputs": [],
   "source": [
    "import numpy as np\n",
    "from numpy import linalg as LA\n",
    "def prfloat(x,n=10,m=4,f=\"g\"):\n",
    "    if x == 0.0:\n",
    "        return \" \"*(n-1) + \"0\"\n",
    "    else:\n",
    "        return f\"%{n}.{m}f\"%x\n",
    "def DUMP(_a,_b=None):\n",
    "    if _b == None: \n",
    "        _t = str(eval(_a))\n",
    "        if _t.find('\\n') > 0:\n",
    "            print(f\"{_a} = \\n{_t}\")\n",
    "        else:\n",
    "            print(f\"{_a} = {eval(_a)}\")\n",
    "    else:\n",
    "        _t = str(eval(_b))\n",
    "        if _t.find('\\n') > 0:\n",
    "            print(f\"{_b} = # {_a}\\n{_t}\")\n",
    "        else:\n",
    "            print(f\"{_b} = {eval(_b)} # {_a}\")\n",
    "np.set_printoptions(precision=4,floatmode='fixed',formatter={'float':lambda x: prfloat(x,10,4,\"f\")})"
   ]
  },
  {
   "cell_type": "markdown",
   "metadata": {},
   "source": [
    "The outdoor temperature is assumed to be 20F below the indoor setpoint."
   ]
  },
  {
   "cell_type": "markdown",
   "metadata": {},
   "source": [
    "The building has the following characteristics"
   ]
  },
  {
   "cell_type": "code",
   "execution_count": 1309,
   "metadata": {},
   "outputs": [],
   "source": [
    "# Table 3: Building design parameters\n",
    "N = 1 # 10 floors\n",
    "M = 2 # 20 units per floor\n",
    "X = 24 # unit width (ft)\n",
    "Y = 40 # unit depth (ft)\n",
    "Z = 8 # unit height (ft)\n",
    "W = 6 # corridor width (ft)\n",
    "F = 1 # floor thickness (ft)\n",
    "I = 1 # Wall thickness (ft)\n",
    "\n",
    "Kx = 0 # corridor is not exterior\n",
    "Kd = 1 # corridor is double-sided\n",
    "omega = 0.5 # exterior window/wall ratio\n",
    "beta = .8 # fraction of units that are occupied\n",
    "a = 1 # fraction of heat gain that goes to zone instead of mass\n",
    "b = 1-a # fraction of heat gain that is taken up directly by mass\n",
    "\n",
    "\n",
    "\n"
   ]
  },
  {
   "cell_type": "code",
   "execution_count": 1310,
   "metadata": {},
   "outputs": [],
   "source": [
    "# Table 5: Derived building properties\n",
    "A = X*Y # unit floor area (sf)\n",
    "Ad = 3*6.7 # unit door area (sf)\n",
    "Aw_unit = omega*X*Z # unit window area (sf)\n",
    "Aw_core = omega*W*Z # core window area (sf)\n",
    "Au = Y*Z # unit-unit wall area (sf)\n",
    "Ao = X*Z - Aw_unit # unit-outdoor wall area (sf)\n",
    "Ac = X*Z - Ad # unit-core wall area (sf)\n",
    "Ah = W*Z # Core exterior wall ares (sf)\n",
    "Ah_w = Ah - Aw_core # Core exterior wall with window (sf)\n",
    "Ah_d = Ah - Ad # Core exterior wall with door (sf)\n",
    "\n",
    "\n",
    "# components\n",
    "Xl = M * X * (1 - .5 * Kd)\n",
    "Al = Xl * Z\n",
    "Ac_sides = 2*Ah*(1-Kx) # ??? Ah may not include window or door\n",
    "Ac_aptwall = N*Al*(Kd+1) # ??? do you include doors\n",
    "Ac_external = N*Al*(1-Kx)*(1-Kd)\n",
    "Ac_floor = N*Xl*W\n",
    "Ac_ceiling = N*Xl*W\n",
    "\n"
   ]
  },
  {
   "cell_type": "code",
   "execution_count": 1311,
   "metadata": {},
   "outputs": [],
   "source": [
    "# Table 4: Building thermal properties\n",
    "R_ext = 19\n",
    "R_int = 5\n",
    "R_window = 2\n",
    "R_door = 3\n",
    "R_mass = 1.41\n",
    "R_floor = 1\n",
    "R_roof = 60\n",
    "R_ground = 60\n",
    "\n",
    "R_C_window = (Ah_w/R_ext)+(Aw_core/R_window)\n",
    "R_C_door = (Ah_d/R_ext)+(Ad/R_door)"
   ]
  },
  {
   "cell_type": "code",
   "execution_count": 1312,
   "metadata": {},
   "outputs": [],
   "source": [
    "C_int = 2000 # occupied unit interior thermal capacitance (Btu/degF)\n",
    "\n",
    "Sint = 10.0\n",
    "Sfloor = 150.0\n",
    "\n",
    "c_building = .3 # specific heat of wood (hardwood) (Btu/lbm.F)\n",
    "rho_material = 45 # density of wood (hardwood) (lbm/cf)\n",
    "rhoair = 0.0735\n",
    "\n",
    "\n",
    "\n",
    "\n",
    "Sair = 0.2402*rhoair\n",
    "Cint = Sint*A"
   ]
  },
  {
   "cell_type": "code",
   "execution_count": 1313,
   "metadata": {},
   "outputs": [],
   "source": [
    "# Table 5: Derived building properties\n",
    "V = X*Y*Z # unit volume (cf)\n",
    "V_outsidewalls = 2*N*I*(Al+Au*(Kd+1)+Ah*(Kx-1))\n",
    "V_innerwalls = N*I*(M-1-Kd)*Au\n",
    "V_unitfloors = N*A*F\n",
    "V_unitceiling = A*F\n",
    "V_corewalls = N*Al*I*(2*Kd+(1-Kd)*(1-Kx))\n",
    "V_corefloor = N*Xl*W*F\n",
    "V_coreceiling = Xl*W*F\n",
    "\n",
    "\n",
    "V_totalwalls = V_outsidewalls + V_innerwalls + V_unitfloors + V_unitceiling +V_corewalls + V_corefloor  +V_coreceiling \n"
   ]
  },
  {
   "cell_type": "code",
   "execution_count": 1314,
   "metadata": {},
   "outputs": [],
   "source": [
    "# set zone heat gains\n",
    "Q_Rad_A = 0 # solar gains to occupied apartments (computed from weather data)\n",
    "Q_Vent_A = 0 # ventilation gains to occupied apartments (computed from weather data)\n",
    "Q_Enduse_A = 0 # electric load gains to occupied aparments (computed from equipment data)\n",
    "\n",
    "Q_Rad_U = (1-beta)*Q_Rad_A # solar gains to unoccupied apartments (computed from weather data)\n",
    "Q_Vent_U = 0 # ventilation gains to occupied apartments (computed from weather data)\n",
    "\n",
    "Q_Rad_C = 0 # solar gains to core spaces (computed from weather data)\n",
    "Q_Vent_C = 0 # ventilation gains to core spaces (computed from weather data)\n",
    "Q_Enduse_C = 0 # electric load gains to core spaces (computed from equipment data)\n",
    "\n",
    "Q_Gains_A = Q_Rad_A + Q_Vent_A + Q_Enduse_A\n",
    "Q_Gains_U = Q_Rad_U + Q_Vent_U \n",
    "Q_Gains_C = Q_Rad_C + Q_Vent_C + Q_Enduse_C\n",
    "Q_Gains_M = 0\n"
   ]
  },
  {
   "cell_type": "code",
   "execution_count": 1315,
   "metadata": {},
   "outputs": [],
   "source": [
    "# set outdoor temperature (delta from T_A and T_M)\n",
    "T_O = 100 # computed from weather data relative the apartment setpoint (e.g., T_A = 40 degF - T_O)\n",
    "unit_temperature = 70\n",
    "vacant_temperature = 70\n",
    "core_temperature = 70\n",
    "mass_temperature = 70\n",
    "building_setpoint_temp = 70\n",
    "unit_mode = 0\n",
    "vacant_mode = 0\n",
    "core_mode = 0"
   ]
  },
  {
   "cell_type": "code",
   "execution_count": 1316,
   "metadata": {},
   "outputs": [],
   "source": [
    "# Building mode\n",
    "m = np.sign(building_setpoint_temp - T_O) # -1 for cooling, +1 for heating"
   ]
  },
  {
   "cell_type": "markdown",
   "metadata": {},
   "source": [
    "The HVAC system capabilities are"
   ]
  },
  {
   "cell_type": "code",
   "execution_count": 1317,
   "metadata": {},
   "outputs": [],
   "source": [
    "# set heat/cool constraints\n",
    "u_min = np.array([[-500000],[-200000],[-100000],[0]])\n",
    "u_max = np.array([[500000],[200000],[150000],[0]])\n",
    "# plant efficiency\n",
    "e_cool = 3.0\n",
    "e_heat = 4.0\n",
    "# temperature setpoints\n",
    "T_unoccupied = 10 # unoccupied zone temperature setpoint offset (degF)\n",
    "T_core = 5 # core zone temperature setpoint offset (degF)"
   ]
  },
  {
   "cell_type": "code",
   "execution_count": 1318,
   "metadata": {},
   "outputs": [
    {
     "name": "stdout",
     "output_type": "stream",
     "text": [
      "N = 1 # number of floors\n",
      "M = 2 # number of units per floor\n",
      "X = 24 # unit width (ft)\n",
      "Y = 40 # unit depth (ft)\n",
      "Z = 8 # unit height (ft)\n",
      "W = 6 # core width (ft)\n",
      "A = 960 # unit floor area (sf)\n",
      "Aw_unit = 96.0 # unit window area (sf)\n",
      "Ad = 20.1 # unit door area (sf)\n",
      "Au = 320 # unit wall area (sf)\n",
      "Ao = 96.0 # unit exterior wall area (sf)\n",
      "Ac = 171.9 # unit core wall area (sf)\n",
      "V = 7680 # unit volume (cf)\n",
      "beta = 0.8 # occupancy factor (pu)\n",
      "Kx = 0 # indoor core fraction (pu)\n",
      "Kd = 1 # indoor core double loading fraction (pu)\n",
      "F = 1 # floor thickness (ft)\n",
      "rhoair = 0.0735 # volumetric air density (lb/cf)\n",
      "Sair = 0.0176547 # air specific heat capacity (Btu/degF/cf)\n",
      "Sint = 10.0 # interior mass loading (Btu/degF/sf)\n",
      "Cint = 9600.0 # interior heat capacity (Btu/degF)\n",
      "Sfloor = 150.0 # density of floor mass (lb/cf)\n"
     ]
    }
   ],
   "source": [
    "DUMP(\"number of floors\",\"N\")\n",
    "DUMP(\"number of units per floor\",\"M\")\n",
    "DUMP(\"unit width (ft)\",\"X\")\n",
    "DUMP(\"unit depth (ft)\",\"Y\")\n",
    "DUMP(\"unit height (ft)\",\"Z\")\n",
    "DUMP(\"core width (ft)\",\"W\")\n",
    "DUMP(\"unit floor area (sf)\",\"A\")\n",
    "DUMP(\"unit window area (sf)\",\"Aw_unit\")\n",
    "DUMP(\"unit door area (sf)\",\"Ad\")\n",
    "DUMP(\"unit wall area (sf)\",\"Au\")\n",
    "DUMP(\"unit exterior wall area (sf)\",\"Ao\")\n",
    "DUMP(\"unit core wall area (sf)\",\"Ac\")\n",
    "DUMP(\"unit volume (cf)\",\"V\")\n",
    "DUMP(\"occupancy factor (pu)\",\"beta\")\n",
    "DUMP(\"indoor core fraction (pu)\",\"Kx\")\n",
    "DUMP(\"indoor core double loading fraction (pu)\",\"Kd\")\n",
    "DUMP(\"floor thickness (ft)\",\"F\")\n",
    "DUMP(\"volumetric air density (lb/cf)\",\"rhoair\")\n",
    "DUMP(\"air specific heat capacity (Btu/degF/cf)\",\"Sair\")\n",
    "DUMP(\"interior mass loading (Btu/degF/sf)\",\"Sint\")\n",
    "DUMP(\"interior heat capacity (Btu/degF)\",\"Cint\")\n",
    "DUMP(\"density of floor mass (lb/cf)\",\"Sfloor\")"
   ]
  },
  {
   "cell_type": "code",
   "execution_count": 1319,
   "metadata": {},
   "outputs": [],
   "source": [
    "# Table 6: Conductance calculations\n",
    "U_OA_windowwall = N * M * beta * ((Ao/R_ext)+(Aw_unit))\n",
    "U_OU_windowwall = ((1-beta)/beta) * U_OA_windowwall\n",
    "U_OA_sidewall = 2*N*beta*(1+Kd)*(Au/R_ext)\n",
    "U_OU_sidewall = ((1-beta)/beta) * U_OA_sidewall\n",
    "U_OA_roof = M*beta*(A/(R_floor+R_roof))\n",
    "U_OU_roof = ((1-beta)/beta) * U_OA_roof\n",
    "U_OA_floor = M*beta*(A/(R_floor+R_ground))\n",
    "U_OU_floor = ((1-beta)/beta) * U_OA_floor\n",
    "U_UA_innerwalls = 2*N*M*beta*(1-beta)*(Au/R_int)\n",
    "U_UA_floor = (N-1)*beta*M*(1-beta)*(A/R_floor)\n",
    "U_UA_ceiling = (N-1)*beta*M*(1-beta)*(A/R_floor)\n",
    "U_AU_floor = U_UA_ceiling\n",
    "U_UA_ceiling = U_UA_floor\n",
    "U_OC_sides = 2*N*(1-Kx)*(R_C_window+R_C_door)\n",
    "U_OC_wall = (Al/R_ext)*(1-Kd)\n",
    "U_OC_floor = Al/(R_floor+R_ground)\n",
    "U_OC_roof = Al/(R_floor+R_roof)"
   ]
  },
  {
   "cell_type": "code",
   "execution_count": 1320,
   "metadata": {},
   "outputs": [
    {
     "name": "stdout",
     "output_type": "stream",
     "text": [
      "Table 6: Conductance calculations (kBtu/degF.h)\n",
      "\n",
      "U_OA U_UA U_CA U_MA U_OU U_UA U_UC U_MU U_OC U_CA U_UC U_MC U_OM U_MA U_MU U_MC \n",
      "---- ---- ---- ---- ---- ---- ---- ---- ---- ---- ---- ---- ---- ---- ---- ----\n",
      "   0    0    0    3    0    0    0    1    0    0    0    1    1    3    1    1\n"
     ]
    }
   ],
   "source": [
    "# Occupied Apartment\n",
    "U_OA = U_OA_windowwall + U_OA_sidewall + U_OA_floor + U_OA_roof\n",
    "U_UA = U_UA_innerwalls + U_UA_floor + U_UA_ceiling\n",
    "U_CA = N*M*beta*((Ac/((1-Kx)*R_int+Kx*R_ext)+(Ad/R_door)))\n",
    "U_MA = N*M*beta*((2*(A+Au)+Ao+Ac)/R_mass)\n",
    "\n",
    "# Unoccupied Apartment\n",
    "U_OU = U_OU_windowwall + U_OU_sidewall + U_OU_floor + U_OU_roof\n",
    "U_UA = U_UA\n",
    "U_UC = ((1-beta)/beta)*U_CA\n",
    "U_MU = ((1-beta)/beta)*U_MA\n",
    "\n",
    "# Building Core\n",
    "U_OC = U_OC_sides + U_OC_wall + U_OC_floor + U_OC_roof\n",
    "U_CA = U_CA\n",
    "U_UC = U_UC\n",
    "U_MC = (Ac_sides + Ac_aptwall + Ac_external + Ac_floor + Ac_ceiling)/R_mass\n",
    "\n",
    "# Building Mass\n",
    "U_OM = (2*N*(Al*(1+Kx)+Au*(1+Kd)+Ah*(1-Kx)+W*Xl*Kx))/R_mass\n",
    "U_MA = U_MA\n",
    "U_MU = U_MU\n",
    "U_MC = U_MC\n",
    "\n",
    "\n",
    "print(\"Table 6: Conductance calculations (kBtu/degF.h)\\n\\n\" + \n",
    "      \"U_OA U_UA U_CA U_MA U_OU U_UA U_UC U_MU U_OC U_CA U_UC U_MC U_OM U_MA U_MU U_MC \\n\" +\n",
    "      \"---- ---- ---- ---- ---- ---- ---- ---- ---- ---- ---- ---- ---- ---- ---- ----\\n\" +\n",
    "      \"%4.0f %4.0f %4.0f %4.0f %4.0f %4.0f %4.0f %4.0f %4.0f %4.0f %4.0f %4.0f %4.0f %4.0f %4.0f %4.0f\" \n",
    "      % (U_OA/1000,U_UA/1000,U_CA/1000,U_MA/1000,\n",
    "      U_OU/1000,U_UA/1000,U_UC/1000,U_MU/1000,\n",
    "      U_OC/1000,U_CA/1000,U_UC/1000,U_MC/1000,\n",
    "      U_OM/1000,U_MA/1000,U_MU/1000,U_MC/1000))"
   ]
  },
  {
   "cell_type": "code",
   "execution_count": 1321,
   "metadata": {
    "scrolled": true
   },
   "outputs": [
    {
     "name": "stdout",
     "output_type": "stream",
     "text": [
      "U_OA = 265.939603106126 # UA outdoor occupied (Btu/degF/h)\n"
     ]
    }
   ],
   "source": [
    "DUMP(\"UA outdoor occupied (Btu/degF/h)\",\"U_OA\")\n"
   ]
  },
  {
   "cell_type": "code",
   "execution_count": 1322,
   "metadata": {},
   "outputs": [
    {
     "name": "stdout",
     "output_type": "stream",
     "text": [
      "Table 7: Capacitance calculations (kBtu/degF)\n",
      "\n",
      "C_A  C_U  C_C  C_M\n",
      "---- ---- ---- ----\n",
      " 217   54   20 75360\n"
     ]
    }
   ],
   "source": [
    "# Table 7: Capacitance calculations\n",
    "C_A = N * M * beta * V * Sair\n",
    "C_U = N * M * (1-beta) * V * Sair\n",
    "C_C = N * Xl * Ah * Sair\n",
    "C_M = V_totalwalls * rho_material * c_building + N * M * Cint\n",
    "\n",
    "print(\"Table 7: Capacitance calculations (kBtu/degF)\\n\\n\"\n",
    "     + \"C_A  C_U  C_C  C_M\\n\"\n",
    "     + \"---- ---- ---- ----\\n\"\n",
    "     + \"%4.0f %4.0f %4.0f %4.0f\"\n",
    "     % (C_A/1.0,C_U/1.0,C_C/1.0,C_M/1.0))"
   ]
  },
  {
   "cell_type": "code",
   "execution_count": 1323,
   "metadata": {
    "scrolled": true
   },
   "outputs": [],
   "source": [
    "# DUMP(\"occupied zone heat capacity (Btu/degF)\",\"C_A\")\n",
    "# DUMP(\"unoccupied zone heat capacity (Btu/degF)\",\"C_U\")\n",
    "# DUMP(\"core zone heat capacity (Btu/degF)\",\"C_C\")\n",
    "# DUMP(\"mass heat capacity (Btu/degF)\",\"C_M\")\n",
    "# DUMP(\"occupied zone solar gain\",\"Q_Rad_A\")\n",
    "# DUMP(\"occupied zone ventilation gain\",\"Q_AV\")\n",
    "# DUMP(\"occupied zone equipment gain\",\"Q_AE\")\n",
    "# DUMP(\"unoccupied zone solar gain\",\"Q_US\")\n",
    "# DUMP(\"core zone solar gain\",\"Q_CS\")\n",
    "# DUMP(\"core zone ventilation gain\",\"Q_CV\")"
   ]
  },
  {
   "cell_type": "code",
   "execution_count": 1324,
   "metadata": {},
   "outputs": [
    {
     "name": "stdout",
     "output_type": "stream",
     "text": [
      "Thermal conditions\n",
      "\n",
      " Q_A  Q_U  Q_C Q_M  T_O \n",
      "       kBtu/h      degF\n",
      "---- ---- ---- ---- ----\n",
      "   0    0    0    0  100\n"
     ]
    }
   ],
   "source": [
    "# Thermal conditions\n",
    "q = np.array([[Q_Gains_A], [Q_Gains_U], [Q_Gains_C], [Q_Gains_M] ,[T_O]])\n",
    "print(\"Thermal conditions\\n\\n\"\n",
    "     + \" Q_A  Q_U  Q_C Q_M  T_O \\n\"\n",
    "     + \"       kBtu/h      degF\\n\"\n",
    "     + \"---- ---- ---- ---- ----\")\n",
    "print(\"%4.0f %4.0f %4.0f %4.0f %4.0f\"\n",
    "     % (q[0],q[1],q[2],q[3],q[4]))"
   ]
  },
  {
   "cell_type": "code",
   "execution_count": 1325,
   "metadata": {},
   "outputs": [
    {
     "name": "stdout",
     "output_type": "stream",
     "text": [
      "A = \n",
      "[[  -16.5095     0.1888     0.3030    14.7919]\n",
      " [    0.7552   -17.0759     0.3030    14.7919]\n",
      " [    3.2317     0.8079   -33.2379    26.7812]\n",
      " [    0.0426     0.0106     0.0072    -0.0770]]\n"
     ]
    }
   ],
   "source": [
    "\n",
    "# compute the solution matrices\n",
    "A = np.array([ \n",
    "      [-(U_OA+U_UA+U_CA+U_MA)/C_A,                   U_UA/C_A,                   U_CA/C_A,                   U_MA/C_A],\n",
    "      [                  U_UA/C_U, -(U_OU+U_UA+U_UC+U_MU)/C_U,                   U_UC/C_U,                   U_MU/C_U],\n",
    "      [                  U_CA/C_C,                   U_UC/C_C, -(U_OC+U_CA+U_UC+U_MC)/C_C,                   U_MC/C_C],\n",
    "      [                  U_MA/C_M,                   U_MU/C_M,                   U_MC/C_M, -(U_OM+U_MA+U_MU+U_MC)/C_M]\n",
    "    ])\n",
    "DUMP(\"A\")"
   ]
  },
  {
   "cell_type": "code",
   "execution_count": 1326,
   "metadata": {},
   "outputs": [
    {
     "name": "stdout",
     "output_type": "stream",
     "text": [
      "B1 = \n",
      "[[    0.0046          0          0          0     1.2259]\n",
      " [         0     0.0184          0          0     1.2259]\n",
      " [         0          0     0.0492          0     2.4170]\n",
      " [         0          0          0     1.0000     0.0166]]\n"
     ]
    }
   ],
   "source": [
    "\n",
    "B1 = np.array([ \n",
    "       [  a/C_A,     0,     0, 0, U_OA/C_A],\n",
    "       [      0, a/C_U,     0, 0, U_OU/C_U],\n",
    "       [      0,     0, a/C_C, 0, U_OC/C_C],\n",
    "       [  b/C_M, b/C_M, b/C_M, 1, U_OM/C_M]\n",
    "      ])\n",
    "DUMP(\"B1\")"
   ]
  },
  {
   "cell_type": "code",
   "execution_count": 1327,
   "metadata": {},
   "outputs": [
    {
     "name": "stdout",
     "output_type": "stream",
     "text": [
      "B2 = \n",
      "[[    0.0046          0          0          0]\n",
      " [         0     0.0184          0          0]\n",
      " [         0          0     0.0492          0]\n",
      " [         0          0          0     1.0000]]\n"
     ]
    }
   ],
   "source": [
    "B2 = np.array([ \n",
    "       [ a/C_A,     0,     0, 0],\n",
    "       [     0, a/C_U,     0, 0],\n",
    "       [     0,     0, a/C_C, 0],\n",
    "       [ b/C_M, b/C_M, b/C_M, 1]\n",
    "      ])\n",
    "DUMP(\"B2\")"
   ]
  },
  {
   "cell_type": "code",
   "execution_count": 1328,
   "metadata": {},
   "outputs": [],
   "source": [
    "# _a = np.array([\n",
    "#     [1,2,-1],\n",
    "#     [1,0,1],\n",
    "#     [4,-4,5]])\n",
    "# _x0 = np.array([-1,0,0]).transpose()\n",
    "\n",
    "# _a_eigvals, _a_eigvects = LA.eig(_a)\n",
    "# t=0\n",
    "# print(_a_eigvals)\n",
    "# print(_a_eigvects)\n",
    "# _A = np.diag(np.exp(_a_eigvals * t))\n",
    "# print(_A)\n",
    "# _X =  _a_eigvects @ _A  \n",
    "# print('V times A',_X)\n",
    "\n",
    "# _c = LA.inv(_X) @ _x0\n",
    "# print(_c)"
   ]
  },
  {
   "cell_type": "code",
   "execution_count": 1329,
   "metadata": {},
   "outputs": [
    {
     "name": "stdout",
     "output_type": "stream",
     "text": [
      "Temperatures (degF)\n",
      "\n",
      "Zone   T(0) dT/dt  Teq   Set \n",
      "----- ----- ----- ----- -----\n",
      "T_A    45.0   0.0 100.0  70.0\n",
      "T_U    45.0  -0.0 100.0  80.0\n",
      "T_C    45.0   0.0 100.0  75.0\n",
      "T_M    45.0   0.0 100.0   --\n"
     ]
    }
   ],
   "source": [
    "# initial temperature\n",
    "T0 = np.array([[unit_temperature],[vacant_temperature],[core_temperature],[mass_temperature]])\n",
    "\n",
    "\n",
    "Ainv = LA.inv(A)\n",
    "\n",
    "# Steady state temperatures without HVAC heating/cooling \n",
    "T_eq = -Ainv @ B1 @ q \n",
    "\n",
    "dT = A @ T_eq + B1 @ q\n",
    "T_set = building_setpoint_temp - m * np.array([[0],[T_unoccupied],[T_core],[0]])\n",
    "\n",
    "print(\"Temperatures (degF)\\n\\n\"\n",
    "     + \"Zone   T(0) dT/dt  Teq   Set \\n\"\n",
    "     + \"----- ----- ----- ----- -----\")\n",
    "print(\"%-5.5s %5.1f %5.1f %5.1f %5.1f\" % ('T_A',T[0],dT[0],T_eq[0],T_set[0]))\n",
    "print(\"%-5.5s %5.1f %5.1f %5.1f %5.1f\" % ('T_U',T[1],dT[1],T_eq[1],T_set[1]))\n",
    "print(\"%-5.5s %5.1f %5.1f %5.1f %5.1f\" % ('T_C',T[2],dT[2],T_eq[2],T_set[2]))\n",
    "print(\"%-5.5s %5.1f %5.1f %5.1f   --\" % ('T_M',T[3],dT[3],T_eq[3]))"
   ]
  },
  {
   "cell_type": "code",
   "execution_count": 1330,
   "metadata": {},
   "outputs": [
    {
     "name": "stdout",
     "output_type": "stream",
     "text": [
      "u = \n",
      "[[-8716.4281]\n",
      " [ 7184.4733]\n",
      " [ 1740.9283]\n",
      " [         0]]\n",
      "shortfall = -0 kBtu/h\n",
      "dTA = -3.40 degF/h\n",
      "dTU = 169.24 degF/h\n",
      "dTC = 158.11 degF/h\n",
      "dTM = 0.50 degF/h\n",
      "dt = 21 sec\n"
     ]
    }
   ],
   "source": [
    "\n",
    "# solve for the required control\n",
    "u_req = -LA.inv(B2) @ (A @ T_set + B1 @ q)\n",
    "\n",
    "\n",
    "# constrain the solution\n",
    "\n",
    "\n",
    "u = np.array([np.hstack((u_max,np.array([np.hstack((u_req,u_min)).max(axis=1)]).transpose())).min(axis=1)]).transpose()\n",
    "DUMP('u')\n",
    "\n",
    "u_shortfall = u_req - u\n",
    "\n",
    "# compute the temperature changes\n",
    "dT = A @ T0 + B1 @ q + B2 @ u\n",
    "\n",
    "# compute time to change dTmax degF\n",
    "dTmax = 1.0\n",
    "deltat = dTmax * 3600/max(abs(dT))[0]\n",
    "# show me\n",
    "print(\"shortfall = %.0f kBtu/h\" % (sum(u_req - u)/1000))\n",
    "print(\"dTA = %.2f degF/h\" % (dT[0]))\n",
    "print(\"dTU = %.2f degF/h\" % (dT[1]))\n",
    "print(\"dTC = %.2f degF/h\" % (dT[2]))\n",
    "print(\"dTM = %.2f degF/h\" % (dT[3]))\n",
    "print(\"dt = %.0f sec\" % (deltat))"
   ]
  },
  {
   "cell_type": "code",
   "execution_count": 1331,
   "metadata": {
    "scrolled": true
   },
   "outputs": [],
   "source": [
    "# # power requirements\n",
    "# if m < 0: \n",
    "#       eta = e_heat\n",
    "#       M=\"COOL\"\n",
    "# else: \n",
    "#       eta = e_cool\n",
    "#       M=\"HEAT\"\n",
    "# P = m * sum(u)/eta\n",
    "# print(\"Mode Power\\n\"\n",
    "#       + \"---- --------\\n\"\n",
    "#       + \"%4s %5.0f kW\"\n",
    "#       % (M,P/1000))"
   ]
  },
  {
   "cell_type": "markdown",
   "metadata": {},
   "source": [
    "---\n",
    "Worksheets..."
   ]
  },
  {
   "cell_type": "code",
   "execution_count": 1332,
   "metadata": {},
   "outputs": [],
   "source": [
    "# Teq = -Ainv @ (B1 @ q + B2 @ u)\n",
    "# print(\"Teq' =\")\n",
    "# Teq.transpose()"
   ]
  },
  {
   "cell_type": "code",
   "execution_count": 1333,
   "metadata": {},
   "outputs": [],
   "source": [
    "# Aeigvals,Aeigvectors = LA.eig(A)\n",
    "# print(Aeigvals)\n",
    "# print(Aeigvectors)\n",
    "\n"
   ]
  },
  {
   "cell_type": "code",
   "execution_count": 1334,
   "metadata": {},
   "outputs": [],
   "source": [
    "\n",
    "# t = 60/3600\n",
    "# expAt = np.diag(np.exp(Aeigvals * t))\n",
    "# print(\"exp[A(t)] =\")\n",
    "# expAt\n",
    "\n",
    "\n",
    "# -----\n",
    "\n",
    "\n",
    "\n"
   ]
  },
  {
   "cell_type": "code",
   "execution_count": 1335,
   "metadata": {},
   "outputs": [],
   "source": [
    "# Tt = Teq + expAt @ T + Ainv @ (Aeigvals-np.eye(4)) @ (B1 @ q + B2 @ u)\n",
    "# print(\"U =\",u)\n",
    "# print(\"T(t) =\",Tt)\n",
    "\n",
    "# ---------------------------\n",
    "# \n",
    "# Ft = B1 @ q + B2 @ u\n",
    "\n",
    "\n",
    "\n",
    "def fund_array ( A_eigvals, A_eigvects, t):\n",
    "    # A_eigvals, A_eigvects = LA.eig(A)\n",
    "    _A = np.diag(np.exp(A_eigvals * t))\n",
    "    _X =  A_eigvects @ _A\n",
    "    # print('_A',_A)\n",
    "    # print('A_eigvects',A_eigvects)\n",
    "    # print('_X',_X)\n",
    "    return _X\n",
    "\n",
    "def transient_temp_IVP (A,Ft,t0,T0,t):\n",
    "    A_eigvals, A_eigvects = LA.eig(A)\n",
    "    \n",
    "\n",
    "    recip_eigvals = np.diag(1/A_eigvals)\n",
    "    \n",
    "    Xt = fund_array( A_eigvals, A_eigvects, t)\n",
    "    Xtinv = LA.inv(Xt)\n",
    "    X0 = fund_array( A_eigvals, A_eigvects, t0)\n",
    "    X0inv = LA.inv(X0)\n",
    "\n",
    "    # print('Xt',Xt)\n",
    "    # print('Xtinv',Xtinv)\n",
    "    # print('X0',X0)\n",
    "    # print('X0inv',X0inv)\n",
    "    # print('Ft',X0inv)\n",
    "    # print('A',A)\n",
    "\n",
    "# \n",
    "    Tt = Xt @ X0inv @ T0 + Xt @ ( (Xtinv @ recip_eigvals) @ Ft - (X0inv @ recip_eigvals) @  Ft ) \n",
    "    return Tt\n",
    "\n",
    "\n",
    "# Tt = transient_temp_IVP(A,Ft,t0=0,T0=T,t=0)\n",
    "# print(\"T(t) =\",Tt)\n",
    "# print(\"Temperatures (degF)\\n\\n\"\n",
    "#      + \"Zone   T(0) dT/dt  Teq   Set \\n\"\n",
    "#      + \"----- ----- ----- ----- -----\")\n",
    "# print(\"%-5.5s %5.1f %5.1f %5.1f %5.1f\" % ('T_A',T[0],dT[0],T[0],T_set[0]))\n",
    "# print(\"%-5.5s %5.1f %5.1f %5.1f %5.1f\" % ('T_U',T[1],dT[1],T[1],T_set[1]))\n",
    "# print(\"%-5.5s %5.1f %5.1f %5.1f %5.1f\" % ('T_C',T[2],dT[2],T[2],T_set[2]))\n",
    "# print(\"%-5.5s %5.1f %5.1f %5.1f   --\" % ('T_M',T[3],dT[3],T[3]))\n"
   ]
  },
  {
   "cell_type": "code",
   "execution_count": 1336,
   "metadata": {},
   "outputs": [
    {
     "data": {
      "image/png": "[encoded data removed]",
      "text/plain": [
       "<Figure size 720x720 with 1 Axes>"
      ]
     },
     "metadata": {
      "needs_background": "light"
     },
     "output_type": "display_data"
    },
    {
     "name": "stdout",
     "output_type": "stream",
     "text": [
      "Equilibrium Temperature (degF)\n",
      "\n",
      "               Field                    O                    U                    C                    M\n",
      "               -----                    -                    -                    -                    -\n",
      "Initial Temp [C]                     70.0                 70.0                 70.0                 70.0\n",
      "Set-point Temp [C]                   70.0                 80.0                 75.0                 70.0\n",
      "Actual Equilibrium Temp [C]                100.0                100.0                100.0                100.0\n",
      "Gains [Btu/h]                         0.0                  0.0                  0.0                  0.0\n",
      "HVAC EQ Power [Btu/h]              -8716.4               7184.5               1740.9                  0.0\n",
      "HVAC Shortfall [Btu/h]                  0.0                  0.0                  0.0                 -0.6\n"
     ]
    }
   ],
   "source": [
    "import matplotlib.pyplot as plt\n",
    "from scipy.integrate import odeint\n",
    "\n",
    "\n",
    "def dTdt (T,t,A,B1,B2,q,u):\n",
    "       Ttrans = np.array([T]).transpose()\n",
    "       # + B2 @ u\n",
    "       dTdt = A @ Ttrans + B1 @ q \n",
    "       # print('T = \\n',)\n",
    "       # print('AT = \\n',A@T)\n",
    "       # print('B1q = \\n',B1@q)\n",
    "       # print('B2u = \\n',B2@u)\n",
    "       # print('dTdt = \\n',dTdt)\n",
    "       return dTdt.transpose()[0]\n",
    "\n",
    "# print('U_A',u[0])\n",
    "def Ta (t):\n",
    "       \n",
    "       Pt = U_OA/C_A\n",
    "       \n",
    "       Qt = (U_OA*T_O + a *(Q_Gains_A +u[0][0]) )/C_A\n",
    "       # print('T_outside',T_O,'U_OA',U_OA,'C_A',C_A,'Qgains',Q_Gains_A,'Hvac A',u[0][0],'Qt',Qt,'Pt',Pt)\n",
    "\n",
    "       Ta = np.exp(-Pt*t)*(T0[0]-(Qt/Pt))+(Qt/Pt)\n",
    "       return Ta\n",
    "# def dTadt (Tt,t):\n",
    "       \n",
    "       \n",
    "#        # print(\"A\",A[0],\"B1\",B1[0],\"q\",q,\"B2\",B2[0],\"u\",u)\n",
    "#        # +B2[0][0]*u[0][0]\n",
    "#        dTadt = A[0][0]*Tt+B1[0][0]*q[0][0]+B2[0][0]*u[0][0]\n",
    "#        return dTadt\n",
    "\n",
    "# print(dTadt(T,0))\n",
    "\n",
    "plt.style.use('_mpl-gallery')\n",
    "\n",
    "# make data\n",
    "start = 0\n",
    "end = 500\n",
    "steps = 1000\n",
    "t = np.linspace(start, end, steps)\n",
    "\n",
    "# DUMP('A')\n",
    "# DUMP('T')\n",
    "\n",
    "\n",
    "\n",
    "# def getTempData (start, end,steps):\n",
    "       # Alist = []\n",
    "       # Ulist = []\n",
    "       # Clist = []\n",
    "       # Mlist = []\n",
    "       # for i in range(steps):\n",
    "       #        x = i*(end-start)/steps\n",
    "       #        Ttemp = transient_temp_IVP(A,Ft,t0=0,T0=T,t=x)\n",
    "              \n",
    "       #        Alist.append(Ttemp[0])\n",
    "       #        Ulist.append(Ttemp[1])\n",
    "       #        Clist.append(Ttemp[2])\n",
    "       #        Mlist.append(Ttemp[3])\n",
    "              \n",
    "       # return Alist,Ulist,Clist,Mlist\n",
    "       \n",
    "# tempA,tempU,tempC,tempM =  getTempData(start,end,steps)\n",
    "\n",
    "\n",
    "\n",
    "\n",
    "\n",
    "# yA = np.array(tempA).reshape(-1,).tolist()\n",
    "# yU = np.array(tempU).reshape(-1,).tolist()\n",
    "# yC = np.array(tempC).reshape(-1,).tolist()\n",
    "# yM = np.array(tempM).reshape(-1,).tolist()\n",
    "yt = odeint(dTdt,T0.transpose()[0],t,args=(A,B1,B2,q,u))\n",
    "\n",
    "def f(t):\n",
    "       y = odeint(dTdt,T0.transpose()[0],t,args=(A,B1,B2,q,u))\n",
    "       \n",
    "       return [y[-1]][0]\n",
    "\n",
    "\n",
    "\n",
    "\n",
    "yt_single = []\n",
    "\n",
    "for i in range(steps):\n",
    "       x = i*(end-start)/steps\n",
    "       yt_single.append(Ta(x))\n",
    "       # print('Ta = ',Ta(x),x)\n",
    "\n",
    "yA = yt[:,0]\n",
    "yU = yt[:,1]\n",
    "yC = yt[:,2]\n",
    "yM = yt[:,3]\n",
    "\n",
    "\n",
    "\n",
    "# plot\n",
    "fig, ax = plt.subplots(figsize=(10,10))\n",
    "\n",
    "\n",
    "\n",
    "# ax.plot(t, yt_single, linewidth=2.0, label='Occupied Apartment (explicit)')\n",
    "ax.plot(t, yA, linewidth=2.0, label='Occupied Apartment')\n",
    "ax.plot(t, yU, linewidth=2.0, label='Unoccupied Apartment')\n",
    "ax.plot(t, yC, linewidth=2.0, label='Building Core')\n",
    "ax.plot(t, yM, linewidth=2.0, label='Building Mass')\n",
    "\n",
    "plt.legend()\n",
    "\n",
    "# ax.set(xlim=(0, 24), xticks=np.arange(1, 8),\n",
    "#        ylim=(20, 120), yticks=np.arange(1, 8))\n",
    "\n",
    "plt.show()\n",
    "\n",
    "\n",
    "Tinf = f([0,100000])\n",
    "\n",
    "print(\"Equilibrium Temperature (degF)\\n\")\n",
    "\n",
    "print(\"%20.30s %20.1s %20.1s %20.1s %20.1s\" % ('Field', 'Occupied', 'Unoccupied' ,'Core' ,'Mass'))\n",
    "print(\"%20.30s %20.1s %20.1s %20.1s %20.1s\" % ('-----', '-----', '-----' ,'-----' ,'-----'))\n",
    "print(\"%-20.30s %20.1f %20.1f %20.1f %20.1f\" % ('Initial Temp [C]',T0[0],T0[1],T0[2],T0[3]))\n",
    "print(\"%-20.30s %20.1f %20.1f %20.1f %20.1f\" % ('Set-point Temp [C]',T_set[0],T_set[1],T_set[2],T_set[3]))\n",
    "print(\"%-20.30s %20.1f %20.1f %20.1f %20.1f\" % ('Actual Equilibrium Temp [C]',Tinf[0],Tinf[1],Tinf[2],Tinf[3]))\n",
    "print(\"%-20.30s %20.1f %20.1f %20.1f %20.1f\" % ('Gains [Btu/h]',q[0],q[1],q[2],q[3]))\n",
    "print(\"%-20.30s %20.1f %20.1f %20.1f %20.1f\" % ('HVAC EQ Power [Btu/h]',u[0],u[1],u[2],u[3]))\n",
    "print(\"%-20.30s %20.1f %20.1f %20.1f %20.1f\" % ('HVAC Shortfall [Btu/h]',u_shortfall[0],u_shortfall[1],u_shortfall[2],u_shortfall[3]))\n",
    "\n"
   ]
  },
  {
   "cell_type": "code",
   "execution_count": null,
   "metadata": {},
   "outputs": [],
   "source": []
  }
 ],
 "metadata": {
  "interpreter": {
   "hash": "5dd43c27dd4851e231d53e68adaf4ed22550d27d64f952a02d449ec2cb825d5a"
  },
  "kernelspec": {
   "display_name": "Python 3.10.4 ('.venv': venv)",
   "language": "python",
   "name": "python3"
  },
  "language_info": {
   "codemirror_mode": {
    "name": "ipython",
    "version": 3
   },
   "file_extension": ".py",
   "mimetype": "text/x-python",
   "name": "python",
   "nbconvert_exporter": "python",
   "pygments_lexer": "ipython3",
   "version": "3.10.4"
  }
 },
 "nbformat": 4,
 "nbformat_minor": 2
}
