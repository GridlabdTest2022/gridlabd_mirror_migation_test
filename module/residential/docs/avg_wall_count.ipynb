{
 "cells": [
  {
   "cell_type": "code",
   "execution_count": 2,
   "metadata": {},
   "outputs": [],
   "source": [
    "from itertools import combinations,combinations_with_replacement, permutations\n",
    "import numpy as np"
   ]
  },
  {
   "cell_type": "code",
   "execution_count": 6,
   "metadata": {},
   "outputs": [
    {
     "name": "stdout",
     "output_type": "stream",
     "text": [
      "0.0 0.0 0.0 0.0 0.0\n",
      "1.6 1.6 0.4 0.4 0.2\n",
      "2.4 2.4 0.8 0.8 0.4\n",
      "2.4 2.4 1.2 1.2 0.6\n",
      "1.6 1.6 1.6 1.6 0.8\n",
      "0.0 0.0 2.0 2.0 1.0\n"
     ]
    }
   ],
   "source": [
    "def mean(lst):\n",
    "        return sum(lst) / len(lst)\n",
    "\n",
    "def count_innerwalls (comb:list):\n",
    "    count_list = []\n",
    "    target_to_count = '_'\n",
    "    other = 'A'\n",
    "    for x in list(set(comb)):\n",
    "        count = 0\n",
    "        for i, v in enumerate(x):\n",
    "            if v == target_to_count:\n",
    "                prev = x[i-1] if i-1 >= 0 else None\n",
    "                next = x[i+1] if i <= len(x)-2 else None\n",
    "                try:\n",
    "                    if prev == other and prev is not None:\n",
    "                        count += 1 \n",
    "                except:\n",
    "                    pass\n",
    "                try:\n",
    "                    if next == other and next is not None:\n",
    "                        count += 1 \n",
    "                except:\n",
    "                    pass\n",
    "        count_list.append(count)\n",
    "    return count_list\n",
    "def count_extwalls (comb:list):\n",
    "    count_list = []\n",
    "    for x in comb:\n",
    "        count = 0\n",
    "        for i, v in enumerate(x):\n",
    "\n",
    "            if i == 0 and v == 'A':\n",
    "                count += 1\n",
    "            if i == len(x)-1 and v == 'A':\n",
    "                count += 1\n",
    "            \n",
    "        # print(x, count)\n",
    "        count_list.append(count)\n",
    "    return count_list\n",
    "\n",
    "def count_UA_walls (m:int, a_n:int):\n",
    "    A = ['A']*a_n\n",
    "    U = ['_']*(m-a_n)\n",
    "    l = A+U\n",
    "    \n",
    "    comb = list(set(permutations(l)))\n",
    "    avg_inner = mean(count_innerwalls(comb)) if len(comb) != 0 else None\n",
    "    avg_ext = mean(count_extwalls(comb)) if len(comb) != 0 else None\n",
    "    return avg_inner, avg_ext\n",
    "def count_UA_floor (m:int, a_n:int,N:int):\n",
    "    for x in range(N):\n",
    "        A = ['A']*a_n\n",
    "        U = ['_']*(m-a_n)\n",
    "        l   = A+U\n",
    "    \n",
    "    comb = list(set(permutations(l)))\n",
    "    avg_inner = mean(count_innerwalls(comb)) if len(comb) != 0 else None\n",
    "    avg_ext = mean(count_extwalls(comb)) if len(comb) != 0 else None\n",
    "    return avg_inner, avg_ext\n",
    "                \n",
    "M = 5\n",
    "\n",
    "for x in range(M+1):    \n",
    "    beta = x/M\n",
    "    est = round(2*M*beta*(1-beta),1)\n",
    "    estext = 2 * beta\n",
    "    internal, external = count_UA_walls(M,x)\n",
    "    print(internal,est, external, estext, beta)\n",
    "\n"
   ]
  },
  {
   "cell_type": "code",
   "execution_count": null,
   "metadata": {},
   "outputs": [],
   "source": []
  }
 ],
 "metadata": {
  "interpreter": {
   "hash": "5dd43c27dd4851e231d53e68adaf4ed22550d27d64f952a02d449ec2cb825d5a"
  },
  "kernelspec": {
   "display_name": "Python 3.10.4 ('.venv': venv)",
   "language": "python",
   "name": "python3"
  },
  "language_info": {
   "codemirror_mode": {
    "name": "ipython",
    "version": 3
   },
   "file_extension": ".py",
   "mimetype": "text/x-python",
   "name": "python",
   "nbconvert_exporter": "python",
   "pygments_lexer": "ipython3",
   "version": "3.10.4"
  },
  "orig_nbformat": 4
 },
 "nbformat": 4,
 "nbformat_minor": 2
}
