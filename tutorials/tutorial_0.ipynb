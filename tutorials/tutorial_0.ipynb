{
 "cells": [
  {
   "cell_type": "markdown",
   "id": "b352e489",
   "metadata": {},
   "source": [
    "# INTRODUCTION"
   ]
  },
  {
   "cell_type": "markdown",
   "id": "ad0522b8",
   "metadata": {},
   "source": [
    "Welcome to the HiPAS GridLAB-D tutorials.\n",
    "\n",
    "These tutorials are designed as interactive tutorials.  Each tutorial has a learning objective, some instructional content, some interactive examples, and some exercises.  After you complete each tutorial, you will be able to move on the next tutorial.  "
   ]
  },
  {
   "cell_type": "markdown",
   "id": "f4f2f698",
   "metadata": {},
   "source": [
    "# How to use the tutorials"
   ]
  },
  {
   "cell_type": "markdown",
   "id": "6f575ea0",
   "metadata": {},
   "source": [
    "When you have the opportunity to try commands yourself, you can input them at the `tutorial> ` prompt.  When you are ready to continue the tutorial you can enter the `continue` command. If you are uncertain what commands you can use at the prompt, then you can enter the `help` command."
   ]
  },
  {
   "cell_type": "markdown",
   "id": "5b0bc628",
   "metadata": {},
   "source": [
    "Each tutorial runs in a new sandbox folder. Files you create are kept for the duration of the tutorial. After you complete the tutorial, all data in the sandbox is lost.  If you wish to start over with a new sandbox you can use the `restart` command."
   ]
  },
  {
   "cell_type": "markdown",
   "id": "522485b3",
   "metadata": {},
   "source": [
    "Some exercises require you to create and edit files.  You can use the `edit` command to open these files in your normal editor.  If you have not configured an editor, the tutorial will use Sublime Text. The `vi` and `nano` commands are also supported when `edit` can be used."
   ]
  },
  {
   "cell_type": "markdown",
   "id": "81952d95",
   "metadata": {},
   "source": [
    "You can skip any exercise or an entire tutorial at any time using the `skip` command.  You can also return to the main tutorial menu using the `main` command."
   ]
  },
  {
   "cell_type": "markdown",
   "id": "c341ece7",
   "metadata": {},
   "source": [
    "## Learning objective\n",
    "\n",
    "The object of this first tutorial is to introduce you the basic of how to learn from tutorials and the basics of GridLAB-D.\n",
    "\n",
    "First, let's try a few command.  Type `help` to see what commands are available.  Most commands are simple common shell command. The remaining are tutorial commands."
   ]
  },
  {
   "cell_type": "code",
   "execution_count": 1,
   "id": "922bfe97",
   "metadata": {},
   "outputs": [],
   "source": [
    "#ls,rm,mv,cp,mkdir,cd,pwd"
   ]
  },
  {
   "cell_type": "markdown",
   "id": "0cfef570",
   "metadata": {},
   "source": [
    "## GridLAB-D command\n",
    "\n",
    "All gridlabd operations are handled by the `gridlabd` command.  All commands accept options, which modify how the command will work.  Options begin with a single dash `-`.  Single characters options begin with a single dash and full keyword options begin with a double dash `--`. Most single character options have a corresponding full keyword option to improve readability of scripts while still providing the convenience of short commands from the user at a shell prompt."
   ]
  },
  {
   "cell_type": "markdown",
   "id": "768c6017",
   "metadata": {},
   "source": [
    "One version important option is the `-V` or `--version` options. It shows you what version of GridLAB-D you are using.\n",
    "\n",
    "For example the command"
   ]
  },
  {
   "cell_type": "code",
   "execution_count": 2,
   "id": "b9cd7061",
   "metadata": {},
   "outputs": [
    {
     "name": "stdout",
     "output_type": "stream",
     "text": [
      "HiPAS GridLAB-D 4.2.30-220113\n",
      "WARNING [gridlabd-version] HiPAS GridLAB-D 4.2.30-220113 (develop-user-tutorials) branch not found on github\n"
     ]
    }
   ],
   "source": [
    "!gridlabd -V"
   ]
  },
  {
   "cell_type": "markdown",
   "id": "8557fd5e",
   "metadata": {},
   "source": [
    "is equivalent to the command"
   ]
  },
  {
   "cell_type": "code",
   "execution_count": 3,
   "id": "40102996",
   "metadata": {},
   "outputs": [
    {
     "name": "stdout",
     "output_type": "stream",
     "text": [
      "HiPAS GridLAB-D 4.2.30-220113\n",
      "WARNING [gridlabd-version] HiPAS GridLAB-D 4.2.30-220113 (develop-user-tutorials) branch not found on github\n"
     ]
    }
   ],
   "source": [
    "!gridlabd --version"
   ]
  },
  {
   "cell_type": "markdown",
   "id": "dddc6fec",
   "metadata": {},
   "source": [
    "Now you try it:"
   ]
  },
  {
   "cell_type": "code",
   "execution_count": 4,
   "id": "82d8691e",
   "metadata": {},
   "outputs": [],
   "source": [
    "#gridlabd"
   ]
  },
  {
   "cell_type": "raw",
   "id": "d5a2d3e1",
   "metadata": {},
   "source": [
    "This is plain\n",
    "text that should\n",
    "be output verbatim."
   ]
  }
 ],
 "metadata": {
  "kernelspec": {
   "display_name": "Python 3 (ipykernel)",
   "language": "python",
   "name": "python3"
  },
  "language_info": {
   "codemirror_mode": {
    "name": "ipython",
    "version": 3
   },
   "file_extension": ".py",
   "mimetype": "text/x-python",
   "name": "python",
   "nbconvert_exporter": "python",
   "pygments_lexer": "ipython3",
   "version": "3.9.9"
  }
 },
 "nbformat": 4,
 "nbformat_minor": 5
}
